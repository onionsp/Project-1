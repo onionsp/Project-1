{
 "cells": [
  {
   "cell_type": "markdown",
   "id": "13a00960",
   "metadata": {},
   "source": [
    "# Data Exploration\n",
    "\n",
    "This notebook explores the TLC trip record data using PySpark to understand data structure, quality, and coverage for our service consistency analysis."
   ]
  },
  {
   "cell_type": "code",
   "execution_count": 1,
   "id": "664da317",
   "metadata": {},
   "outputs": [
    {
     "name": "stderr",
     "output_type": "stream",
     "text": [
      "WARNING: Using incubator modules: jdk.incubator.vector\n",
      "Using Spark's default log4j profile: org/apache/spark/log4j2-defaults.properties\n",
      "Setting default log level to \"WARN\".\n",
      "To adjust logging level use sc.setLogLevel(newLevel). For SparkR, use setLogLevel(newLevel).\n",
      "25/08/12 19:07:17 WARN NativeCodeLoader: Unable to load native-hadoop library for your platform... using builtin-java classes where applicable\n"
     ]
    },
    {
     "name": "stdout",
     "output_type": "stream",
     "text": [
      "Spark version: 4.0.0\n",
      "Spark UI available at: http://10.0.9.9:4040\n"
     ]
    }
   ],
   "source": [
    "from pyspark.sql import SparkSession\n",
    "from pyspark.sql.functions import *\n",
    "from pyspark.sql.types import *\n",
    "import matplotlib.pyplot as plt\n",
    "import seaborn as sns\n",
    "import pandas as pd\n",
    "import numpy as np\n",
    "\n",
    "# Initialize Spark session\n",
    "spark = SparkSession.builder \\\n",
    "    .appName(\"TLC_Data_Exploration\") \\\n",
    "    .config(\"spark.sql.adaptive.enabled\", \"true\") \\\n",
    "    .config(\"spark.sql.adaptive.coalescePartitions.enabled\", \"true\") \\\n",
    "    .getOrCreate()\n",
    "\n",
    "# Set plotting style for visualizations\n",
    "plt.style.use('default')\n",
    "sns.set_palette(\"husl\")\n",
    "\n",
    "print(f\"Spark version: {spark.version}\")\n",
    "print(f\"Spark UI available at: {spark.sparkContext.uiWebUrl}\")"
   ]
  },
  {
   "cell_type": "markdown",
   "id": "e66c3757",
   "metadata": {},
   "source": [
    "## 1. Loading Complete 2024 Training Dataset\n",
    "\n",
    "Loading and combining all 6 months of data (Jan-June 2024) for comprehensive analysis."
   ]
  },
  {
   "cell_type": "code",
   "execution_count": 2,
   "id": "92c1f8a1",
   "metadata": {},
   "outputs": [
    {
     "name": "stdout",
     "output_type": "stream",
     "text": [
      "=== LOADING YELLOW TAXI DATA (JAN-JUNE 2024) ===\n",
      "Loaded 2024-01: 2,964,624 records\n",
      "Loaded 2024-02: 3,007,526 records\n",
      "Loaded 2024-03: 3,582,628 records\n",
      "Loaded 2024-04: 3,514,289 records\n",
      "Loaded 2024-05: 3,723,833 records\n",
      "Loaded 2024-06: 3,539,193 records\n",
      "Total Yellow Taxi Records: 20,332,093\n",
      "\n",
      "=== LOADING GREEN TAXI DATA (JAN-JUNE 2024) ===\n",
      "Loaded 2024-01: 56,551 records\n",
      "Loaded 2024-02: 53,577 records\n",
      "Loaded 2024-03: 57,457 records\n",
      "Loaded 2024-04: 56,471 records\n",
      "Loaded 2024-05: 61,003 records\n",
      "Loaded 2024-06: 54,748 records\n",
      "Total Green Taxi Records: 339,807\n"
     ]
    }
   ],
   "source": [
    "# Define our training period\n",
    "months_2024 = ['2024-01', '2024-02', '2024-03', '2024-04', '2024-05', '2024-06']\n",
    "\n",
    "# Load and union all yellow taxi data\n",
    "print(\"=== LOADING YELLOW TAXI DATA (JAN-JUNE 2024) ===\")\n",
    "yellow_dataframes = []\n",
    "\n",
    "for month in months_2024:\n",
    "    try:\n",
    "        df = spark.read.parquet(f'../data/raw/taxi_2024/yellow_tripdata_{month}.parquet')\n",
    "        # Add month column for tracking\n",
    "        df = df.withColumn(\"data_month\", lit(month))\n",
    "        yellow_dataframes.append(df)\n",
    "        print(f\"Loaded {month}: {df.count():,} records\")\n",
    "    except Exception as e:\n",
    "        print(f\"Error loading {month}: {str(e)}\")\n",
    "\n",
    "# Union all yellow taxi data\n",
    "yellow_full = yellow_dataframes[0]\n",
    "for df in yellow_dataframes[1:]:\n",
    "    yellow_full = yellow_full.union(df)\n",
    "\n",
    "print(f\"Total Yellow Taxi Records: {yellow_full.count():,}\")\n",
    "\n",
    "# Load and union all green taxi data  \n",
    "print(\"\\n=== LOADING GREEN TAXI DATA (JAN-JUNE 2024) ===\")\n",
    "green_dataframes = []\n",
    "\n",
    "for month in months_2024:\n",
    "    try:\n",
    "        df = spark.read.parquet(f'../data/raw/taxi_2024/green_tripdata_{month}.parquet')\n",
    "        df = df.withColumn(\"data_month\", lit(month))\n",
    "        green_dataframes.append(df)\n",
    "        print(f\"Loaded {month}: {df.count():,} records\")\n",
    "    except Exception as e:\n",
    "        print(f\"Error loading {month}: {str(e)}\")\n",
    "\n",
    "# Union all green taxi data\n",
    "green_full = green_dataframes[0]\n",
    "for df in green_dataframes[1:]:\n",
    "    green_full = green_full.union(df)\n",
    "\n",
    "print(f\"Total Green Taxi Records: {green_full.count():,}\")"
   ]
  },
  {
   "cell_type": "code",
   "execution_count": 3,
   "id": "c9a312d0",
   "metadata": {},
   "outputs": [
    {
     "name": "stdout",
     "output_type": "stream",
     "text": [
      "=== YELLOW TAXI SCHEMA ===\n",
      "root\n",
      " |-- VendorID: integer (nullable = true)\n",
      " |-- tpep_pickup_datetime: timestamp_ntz (nullable = true)\n",
      " |-- tpep_dropoff_datetime: timestamp_ntz (nullable = true)\n",
      " |-- passenger_count: long (nullable = true)\n",
      " |-- trip_distance: double (nullable = true)\n",
      " |-- RatecodeID: long (nullable = true)\n",
      " |-- store_and_fwd_flag: string (nullable = true)\n",
      " |-- PULocationID: integer (nullable = true)\n",
      " |-- DOLocationID: integer (nullable = true)\n",
      " |-- payment_type: long (nullable = true)\n",
      " |-- fare_amount: double (nullable = true)\n",
      " |-- extra: double (nullable = true)\n",
      " |-- mta_tax: double (nullable = true)\n",
      " |-- tip_amount: double (nullable = true)\n",
      " |-- tolls_amount: double (nullable = true)\n",
      " |-- improvement_surcharge: double (nullable = true)\n",
      " |-- total_amount: double (nullable = true)\n",
      " |-- congestion_surcharge: double (nullable = true)\n",
      " |-- Airport_fee: double (nullable = true)\n",
      " |-- data_month: string (nullable = false)\n",
      "\n",
      "\n",
      "=== GREEN TAXI SCHEMA ===\n",
      "root\n",
      " |-- VendorID: integer (nullable = true)\n",
      " |-- lpep_pickup_datetime: timestamp_ntz (nullable = true)\n",
      " |-- lpep_dropoff_datetime: timestamp_ntz (nullable = true)\n",
      " |-- store_and_fwd_flag: string (nullable = true)\n",
      " |-- RatecodeID: long (nullable = true)\n",
      " |-- PULocationID: integer (nullable = true)\n",
      " |-- DOLocationID: integer (nullable = true)\n",
      " |-- passenger_count: long (nullable = true)\n",
      " |-- trip_distance: double (nullable = true)\n",
      " |-- fare_amount: double (nullable = true)\n",
      " |-- extra: double (nullable = true)\n",
      " |-- mta_tax: double (nullable = true)\n",
      " |-- tip_amount: double (nullable = true)\n",
      " |-- tolls_amount: double (nullable = true)\n",
      " |-- ehail_fee: double (nullable = true)\n",
      " |-- improvement_surcharge: double (nullable = true)\n",
      " |-- total_amount: double (nullable = true)\n",
      " |-- payment_type: long (nullable = true)\n",
      " |-- trip_type: long (nullable = true)\n",
      " |-- congestion_surcharge: double (nullable = true)\n",
      " |-- data_month: string (nullable = false)\n",
      "\n",
      "\n",
      "=== SCHEMA COMPARISON ===\n",
      "Common columns: 17\n",
      "Yellow-only columns: {'Airport_fee', 'tpep_dropoff_datetime', 'tpep_pickup_datetime'}\n",
      "Green-only columns: {'lpep_pickup_datetime', 'trip_type', 'ehail_fee', 'lpep_dropoff_datetime'}\n",
      "\n",
      "=== SAMPLE RECORDS ===\n",
      "Yellow taxi sample:\n",
      "+--------+--------------------+---------------------+---------------+-------------+----------+------------------+------------+------------+------------+-----------+-----+-------+----------+------------+---------------------+------------+--------------------+-----------+----------+\n",
      "|VendorID|tpep_pickup_datetime|tpep_dropoff_datetime|passenger_count|trip_distance|RatecodeID|store_and_fwd_flag|PULocationID|DOLocationID|payment_type|fare_amount|extra|mta_tax|tip_amount|tolls_amount|improvement_surcharge|total_amount|congestion_surcharge|Airport_fee|data_month|\n",
      "+--------+--------------------+---------------------+---------------+-------------+----------+------------------+------------+------------+------------+-----------+-----+-------+----------+------------+---------------------+------------+--------------------+-----------+----------+\n",
      "|2       |2024-01-01 00:57:55 |2024-01-01 01:17:43  |1              |1.72         |1         |N                 |186         |79          |2           |17.7       |1.0  |0.5    |0.0       |0.0         |1.0                  |22.7        |2.5                 |0.0        |2024-01   |\n",
      "|1       |2024-01-01 00:03:00 |2024-01-01 00:09:36  |1              |1.8          |1         |N                 |140         |236         |1           |10.0       |3.5  |0.5    |3.75      |0.0         |1.0                  |18.75       |2.5                 |0.0        |2024-01   |\n",
      "+--------+--------------------+---------------------+---------------+-------------+----------+------------------+------------+------------+------------+-----------+-----+-------+----------+------------+---------------------+------------+--------------------+-----------+----------+\n",
      "only showing top 2 rows\n",
      "Green taxi sample:\n",
      "+--------+--------------------+---------------------+------------------+----------+------------+------------+---------------+-------------+-----------+-----+-------+----------+------------+---------+---------------------+------------+------------+---------+--------------------+----------+\n",
      "|VendorID|lpep_pickup_datetime|lpep_dropoff_datetime|store_and_fwd_flag|RatecodeID|PULocationID|DOLocationID|passenger_count|trip_distance|fare_amount|extra|mta_tax|tip_amount|tolls_amount|ehail_fee|improvement_surcharge|total_amount|payment_type|trip_type|congestion_surcharge|data_month|\n",
      "+--------+--------------------+---------------------+------------------+----------+------------+------------+---------------+-------------+-----------+-----+-------+----------+------------+---------+---------------------+------------+------------+---------+--------------------+----------+\n",
      "|2       |2024-01-01 00:46:55 |2024-01-01 00:58:25  |N                 |1         |236         |239         |1              |1.98         |12.8       |1.0  |0.5    |3.61      |0.0         |NULL     |1.0                  |21.66       |1           |1        |2.75                |2024-01   |\n",
      "|2       |2024-01-01 00:31:42 |2024-01-01 00:52:34  |N                 |1         |65          |170         |5              |6.54         |30.3       |1.0  |0.5    |7.11      |0.0         |NULL     |1.0                  |42.66       |1           |1        |2.75                |2024-01   |\n",
      "+--------+--------------------+---------------------+------------------+----------+------------+------------+---------------+-------------+-----------+-----+-------+----------+------------+---------+---------------------+------------+------------+---------+--------------------+----------+\n",
      "only showing top 2 rows\n"
     ]
    }
   ],
   "source": [
    "# Examine schemas to ensure consistency\n",
    "print(\"=== YELLOW TAXI SCHEMA ===\")\n",
    "yellow_full.printSchema()\n",
    "\n",
    "print(\"\\n=== GREEN TAXI SCHEMA ===\")\n",
    "green_full.printSchema()\n",
    "\n",
    "print(\"\\n=== SCHEMA COMPARISON ===\")\n",
    "yellow_cols = set(yellow_full.columns)\n",
    "green_cols = set(green_full.columns)\n",
    "\n",
    "common_cols = yellow_cols & green_cols\n",
    "yellow_only = yellow_cols - green_cols\n",
    "green_only = green_cols - yellow_cols\n",
    "\n",
    "print(f\"Common columns: {len(common_cols)}\")\n",
    "print(f\"Yellow-only columns: {yellow_only}\")\n",
    "print(f\"Green-only columns: {green_only}\")\n",
    "\n",
    "# Show sample records\n",
    "print(\"\\n=== SAMPLE RECORDS ===\")\n",
    "print(\"Yellow taxi sample:\")\n",
    "yellow_full.show(2, truncate=False)\n",
    "print(\"Green taxi sample:\")\n",
    "green_full.show(2, truncate=False)"
   ]
  },
  {
   "cell_type": "markdown",
   "id": "2bcb1f39",
   "metadata": {},
   "source": [
    "## Complete Timeline Coverage Analysis\n",
    "\n",
    "Validating data completeness across our full 6-month training period."
   ]
  },
  {
   "cell_type": "code",
   "execution_count": 4,
   "id": "0e706ee1",
   "metadata": {},
   "outputs": [
    {
     "name": "stdout",
     "output_type": "stream",
     "text": [
      "=== MONTHLY COVERAGE ANALYSIS ===\n",
      "Yellow taxi monthly breakdown:\n"
     ]
    },
    {
     "name": "stderr",
     "output_type": "stream",
     "text": [
      "                                                                                \r"
     ]
    },
    {
     "name": "stdout",
     "output_type": "stream",
     "text": [
      "+----------+-------+\n",
      "|data_month|  count|\n",
      "+----------+-------+\n",
      "|   2024-01|2964624|\n",
      "|   2024-02|3007526|\n",
      "|   2024-03|3582628|\n",
      "|   2024-04|3514289|\n",
      "|   2024-05|3723833|\n",
      "|   2024-06|3539193|\n",
      "+----------+-------+\n",
      "\n",
      "Green taxi monthly breakdown:\n",
      "+----------+-----+\n",
      "|data_month|count|\n",
      "+----------+-----+\n",
      "|   2024-01|56551|\n",
      "|   2024-02|53577|\n",
      "|   2024-03|57457|\n",
      "|   2024-04|56471|\n",
      "|   2024-05|61003|\n",
      "|   2024-06|54748|\n",
      "+----------+-----+\n",
      "\n",
      "\n",
      "=== DAILY COVERAGE VALIDATION ===\n"
     ]
    },
    {
     "name": "stderr",
     "output_type": "stream",
     "text": [
      "                                                                                \r"
     ]
    },
    {
     "name": "stdout",
     "output_type": "stream",
     "text": [
      "Yellow taxi covers 188 distinct days\n",
      "Green taxi covers 185 distinct days\n",
      "Expected days (Jan-June 2024): ~181-182 days\n"
     ]
    },
    {
     "name": "stderr",
     "output_type": "stream",
     "text": [
      "[Stage 75:===============================================>        (41 + 7) / 48]\r"
     ]
    },
    {
     "name": "stdout",
     "output_type": "stream",
     "text": [
      "Yellow date range: 2002-12-31 16:46:07 to 2026-06-26 23:53:12\n",
      "Green date range: 2008-12-31 23:02:24 to 2024-06-30 23:57:10\n"
     ]
    },
    {
     "name": "stderr",
     "output_type": "stream",
     "text": [
      "                                                                                \r"
     ]
    }
   ],
   "source": [
    "# Monthly coverage analysis\n",
    "print(\"=== MONTHLY COVERAGE ANALYSIS ===\")\n",
    "\n",
    "yellow_monthly = yellow_full.groupBy(\"data_month\").count().orderBy(\"data_month\")\n",
    "green_monthly = green_full.groupBy(\"data_month\").count().orderBy(\"data_month\")\n",
    "\n",
    "print(\"Yellow taxi monthly breakdown:\")\n",
    "yellow_monthly.show()\n",
    "\n",
    "print(\"Green taxi monthly breakdown:\")\n",
    "green_monthly.show()\n",
    "\n",
    "# Daily coverage check\n",
    "print(\"\\n=== DAILY COVERAGE VALIDATION ===\")\n",
    "\n",
    "# Check for missing days\n",
    "yellow_daily_coverage = yellow_full.select(\n",
    "    date_format(\"tpep_pickup_datetime\", \"yyyy-MM-dd\").alias(\"trip_date\")\n",
    ").distinct().count()\n",
    "\n",
    "green_daily_coverage = green_full.select(\n",
    "    date_format(\"lpep_pickup_datetime\", \"yyyy-MM-dd\").alias(\"trip_date\")\n",
    ").distinct().count()\n",
    "\n",
    "print(f\"Yellow taxi covers {yellow_daily_coverage} distinct days\")\n",
    "print(f\"Green taxi covers {green_daily_coverage} distinct days\")\n",
    "print(f\"Expected days (Jan-June 2024): ~181-182 days\")\n",
    "\n",
    "# Date range validation\n",
    "yellow_date_range = yellow_full.select(\n",
    "    min(\"tpep_pickup_datetime\").alias(\"min_date\"),\n",
    "    max(\"tpep_pickup_datetime\").alias(\"max_date\")\n",
    ").collect()[0]\n",
    "\n",
    "green_date_range = green_full.select(\n",
    "    min(\"lpep_pickup_datetime\").alias(\"min_date\"),\n",
    "    max(\"lpep_pickup_datetime\").alias(\"max_date\")\n",
    ").collect()[0]\n",
    "\n",
    "print(f\"Yellow date range: {yellow_date_range['min_date']} to {yellow_date_range['max_date']}\")\n",
    "print(f\"Green date range: {green_date_range['min_date']} to {green_date_range['max_date']}\")"
   ]
  },
  {
   "cell_type": "code",
   "execution_count": 5,
   "id": "6b972619",
   "metadata": {},
   "outputs": [
    {
     "name": "stderr",
     "output_type": "stream",
     "text": [
      "25/08/12 19:15:24 WARN SparkStringUtils: Truncated the string representation of a plan since it was too large. This behavior can be adjusted by setting 'spark.sql.debug.maxToStringFields'.\n",
      "                                                                                \r"
     ]
    },
    {
     "name": "stdout",
     "output_type": "stream",
     "text": [
      "+-------+------------------+------------------+------------------+------------------+------------------+------------------+-----------------+------------------+-----------------+------------------+-------------------+-----------------+------------------+---------------------+-----------------+--------------------+-------------------+----------+\n",
      "|summary|          VendorID|   passenger_count|     trip_distance|        RatecodeID|store_and_fwd_flag|      PULocationID|     DOLocationID|      payment_type|      fare_amount|             extra|            mta_tax|       tip_amount|      tolls_amount|improvement_surcharge|     total_amount|congestion_surcharge|        Airport_fee|data_month|\n",
      "+-------+------------------+------------------+------------------+------------------+------------------+------------------+-----------------+------------------+-----------------+------------------+-------------------+-----------------+------------------+---------------------+-----------------+--------------------+-------------------+----------+\n",
      "|  count|          20332093|          18356108|          20332093|          18356108|          18356108|          20332093|         20332093|          20332093|         20332093|          20332093|           20332093|         20332093|          20332093|             20332093|         20332093|            18356108|           18356108|  20332093|\n",
      "|   mean|1.7581616904860704| 1.332896766569471|4.7048653908871305| 2.226112474387272|              NULL|164.79722781122436|163.8970699179863|1.1021571168300284|18.88714579704253|1.4086683023730016| 0.4824372616237787|3.270078457244743|0.5468174004512386|    0.970787380325284|27.43594805761403|  2.2496961104173065|0.14343925738506225|      NULL|\n",
      "| stddev|0.4296279396312775|0.8304836702882735|359.24962020333726|10.538268944160277|              NULL| 64.34706426158873|69.54032432267732|0.6315718824583528|77.28530239372293|1.8195526695879762|0.12130807766987457|4.008414880752177| 2.214600238165172|  0.23155714641672995| 78.5513477438845|  0.8404555653924732|0.49330999612405063|      NULL|\n",
      "|    min|                 1|                 0|               0.0|                 1|                 N|                 1|                1|                 0|          -1285.4|              -7.5|               -0.5|           -300.0|           -117.26|                 -1.0|         -1315.97|                -2.5|              -1.75|   2024-01|\n",
      "|    max|                 6|                 9|          312722.3|                99|                 Y|               265|              265|                 5|        334076.32|             65.99|              35.84|           999.99|           1702.88|                  1.0|         334145.3|                2.52|               1.75|   2024-06|\n",
      "+-------+------------------+------------------+------------------+------------------+------------------+------------------+-----------------+------------------+-----------------+------------------+-------------------+-----------------+------------------+---------------------+-----------------+--------------------+-------------------+----------+\n",
      "\n"
     ]
    },
    {
     "name": "stderr",
     "output_type": "stream",
     "text": [
      "[Stage 84:===================>                                      (2 + 4) / 6]\r"
     ]
    },
    {
     "name": "stdout",
     "output_type": "stream",
     "text": [
      "+-------+-------------------+------------------+------------------+------------------+-----------------+------------------+------------------+------------------+------------------+------------------+------------------+-------------------+---------+---------------------+------------------+------------------+-------------------+--------------------+----------+\n",
      "|summary|           VendorID|store_and_fwd_flag|        RatecodeID|      PULocationID|     DOLocationID|   passenger_count|     trip_distance|       fare_amount|             extra|           mta_tax|        tip_amount|       tolls_amount|ehail_fee|improvement_surcharge|      total_amount|      payment_type|          trip_type|congestion_surcharge|data_month|\n",
      "+-------+-------------------+------------------+------------------+------------------+-----------------+------------------+------------------+------------------+------------------+------------------+------------------+-------------------+---------+---------------------+------------------+------------------+-------------------+--------------------+----------+\n",
      "|  count|             339807|            325588|            325588|            339807|           339807|            325588|            339807|            339807|            339807|            339807|            339807|             339807|        0|               339807|            339807|            325588|             325539|              325588|    339807|\n",
      "|   mean| 1.8794933594658145|              NULL|1.1946601226089413| 96.26525351155215|140.7214271630661|1.3114119685000676|17.197824500378175|17.712988313954693|0.9206790913665699|0.5717142377879207|2.4651456562108467|0.21578069315817652|     NULL|   0.9798041241057556|23.469596594537318|1.3076188311608536| 1.0404774850325154|  0.7989414536162266|      NULL|\n",
      "| stddev|0.32555353172602214|              NULL|1.4538024278307664|57.607097562266944|76.52595818986946|0.9714910192260513| 963.1981632661708|15.691449927773398|1.3862314155919324|0.3671238292501142|3.2429121374963867| 1.2804459427462347|     NULL|  0.15361036858669705|17.777673564954938|0.4931284015602135|0.19707657787076832|   1.247222393075461|      NULL|\n",
      "|    min|                  1|                 N|                 1|                 1|                1|                 0|               0.0|            -450.0|              -7.5|              -0.5|             -65.0|              -6.94|     NULL|                 -1.0|            -451.0|                 1|                  1|               -2.75|   2024-01|\n",
      "|    max|                  2|                 Y|                99|               265|              265|                 9|         201421.68|            1422.6|              12.0|              4.25|            343.24|              46.76|     NULL|                  1.0|            1424.1|                 5|                  2|                2.75|   2024-06|\n",
      "+-------+-------------------+------------------+------------------+------------------+-----------------+------------------+------------------+------------------+------------------+------------------+------------------+-------------------+---------+---------------------+------------------+------------------+-------------------+--------------------+----------+\n",
      "\n"
     ]
    },
    {
     "name": "stderr",
     "output_type": "stream",
     "text": [
      "                                                                                \r"
     ]
    }
   ],
   "source": [
    "yellow_full.describe().show()\n",
    "green_full.describe().show()"
   ]
  },
  {
   "cell_type": "markdown",
   "id": "d486cd9d",
   "metadata": {},
   "source": [
    "## Comprehensive Zone Coverage Analysis\n",
    "\n",
    "Analyzing pickup/dropoff zone patterns across the complete dataset."
   ]
  },
  {
   "cell_type": "code",
   "execution_count": 8,
   "id": "06c92c6d",
   "metadata": {},
   "outputs": [
    {
     "name": "stdout",
     "output_type": "stream",
     "text": [
      "=== COMPLETE ZONE COVERAGE ANALYSIS ===\n"
     ]
    },
    {
     "name": "stderr",
     "output_type": "stream",
     "text": [
      "                                                                                \r"
     ]
    },
    {
     "name": "stdout",
     "output_type": "stream",
     "text": [
      "Yellow taxi - Unique pickup zones: 262\n",
      "Yellow taxi - Unique dropoff zones: 261\n",
      "Green taxi - Unique pickup zones: 249\n",
      "Green taxi - Unique dropoff zones: 258\n"
     ]
    },
    {
     "name": "stderr",
     "output_type": "stream",
     "text": [
      "                                                                                \r"
     ]
    },
    {
     "name": "stdout",
     "output_type": "stream",
     "text": [
      "Zones served by both taxi types: 249\n",
      "Yellow-only zones: 13\n",
      "Green-only zones: 0\n",
      "\n",
      "Yellow taxi zone activity (6 months):\n",
      "  Mean trips per zone: 77603\n",
      "  Median trips per zone: 2255\n",
      "  95th percentile: 541457\n",
      "  5th percentile: 25\n"
     ]
    }
   ],
   "source": [
    "# Complete zone coverage analysis\n",
    "print(\"=== COMPLETE ZONE COVERAGE ANALYSIS ===\")\n",
    "\n",
    "# Yellow taxi zone statistics\n",
    "yellow_zone_stats = yellow_full.select(\n",
    "    count_distinct(\"PULocationID\").alias(\"unique_pickup_zones\"),\n",
    "    count_distinct(\"DOLocationID\").alias(\"unique_dropoff_zones\")\n",
    ").collect()[0]\n",
    "\n",
    "print(f\"Yellow taxi - Unique pickup zones: {yellow_zone_stats['unique_pickup_zones']}\")\n",
    "print(f\"Yellow taxi - Unique dropoff zones: {yellow_zone_stats['unique_dropoff_zones']}\")\n",
    "\n",
    "# Green taxi zone statistics  \n",
    "green_zone_stats = green_full.select(\n",
    "    count_distinct(\"PULocationID\").alias(\"unique_pickup_zones\"),\n",
    "    count_distinct(\"DOLocationID\").alias(\"unique_dropoff_zones\")\n",
    ").collect()[0]\n",
    "\n",
    "print(f\"Green taxi - Unique pickup zones: {green_zone_stats['unique_pickup_zones']}\")\n",
    "print(f\"Green taxi - Unique dropoff zones: {green_zone_stats['unique_dropoff_zones']}\")\n",
    "\n",
    "# Zone overlap analysis\n",
    "yellow_zones = [row[0] for row in yellow_full.select(\"PULocationID\").distinct().collect()]\n",
    "green_zones = [row[0] for row in green_full.select(\"PULocationID\").distinct().collect()]\n",
    "common_zones = set(yellow_zones) & set(green_zones)\n",
    "\n",
    "print(f\"Zones served by both taxi types: {len(common_zones)}\")\n",
    "print(f\"Yellow-only zones: {len(set(yellow_zones) - set(green_zones))}\")\n",
    "print(f\"Green-only zones: {len(set(green_zones) - set(yellow_zones))}\")\n",
    "\n",
    "# Get comprehensive zone activity data\n",
    "yellow_zone_activity = yellow_full.groupBy(\"PULocationID\").count().orderBy(desc(\"count\"))\n",
    "green_zone_activity = green_full.groupBy(\"PULocationID\").count().orderBy(desc(\"count\"))\n",
    "\n",
    "# Zone activity statistics\n",
    "yellow_activity_stats = yellow_zone_activity.select(\n",
    "    mean(\"count\").alias(\"mean_trips\"),\n",
    "    expr(\"percentile_approx(count, 0.5)\").alias(\"median_trips\"),\n",
    "    expr(\"percentile_approx(count, 0.95)\").alias(\"p95_trips\"),\n",
    "    expr(\"percentile_approx(count, 0.05)\").alias(\"p5_trips\")\n",
    ").collect()[0]\n",
    "\n",
    "print(f\"\\nYellow taxi zone activity (6 months):\")\n",
    "print(f\"  Mean trips per zone: {yellow_activity_stats['mean_trips']:.0f}\")\n",
    "print(f\"  Median trips per zone: {yellow_activity_stats['median_trips']:.0f}\")\n",
    "print(f\"  95th percentile: {yellow_activity_stats['p95_trips']:.0f}\")\n",
    "print(f\"  5th percentile: {yellow_activity_stats['p5_trips']:.0f}\")"
   ]
  },
  {
   "cell_type": "code",
   "execution_count": 9,
   "id": "bc751ac3",
   "metadata": {},
   "outputs": [
    {
     "data": {
      "image/png": "[encoded data removed]",
      "text/plain": [
       "<Figure size 1500x1000 with 4 Axes>"
      ]
     },
     "metadata": {},
     "output_type": "display_data"
    },
    {
     "name": "stdout",
     "output_type": "stream",
     "text": [
      "Most active yellow zone: 161 (954,881 trips)\n",
      "Most active green zone: 74 (74,589 trips)\n"
     ]
    }
   ],
   "source": [
    "# Visualize zone activity patterns\n",
    "# Sample data for visualization\n",
    "yellow_activity_sample = yellow_zone_activity.toPandas()\n",
    "green_activity_sample = green_zone_activity.toPandas()\n",
    "yellow_top20 = yellow_activity_sample.head(20)\n",
    "green_top20 = green_activity_sample.head(20)\n",
    "\n",
    "fig, axes = plt.subplots(2, 2, figsize=(15, 10))\n",
    "\n",
    "# Zone activity distributions\n",
    "axes[0,0].hist(yellow_activity_sample['count'], bins=50, alpha=0.7, color='gold')\n",
    "axes[0,0].set_title('Yellow Taxi - Zone Activity Distribution (6 months)')\n",
    "axes[0,0].set_xlabel('Total Trips per Zone')\n",
    "axes[0,0].set_ylabel('Number of Zones')\n",
    "axes[0,0].set_yscale('log')\n",
    "\n",
    "axes[0,1].hist(green_activity_sample['count'], bins=50, alpha=0.7, color='green')\n",
    "axes[0,1].set_title('Green Taxi - Zone Activity Distribution (6 months)')\n",
    "axes[0,1].set_xlabel('Total Trips per Zone')\n",
    "axes[0,1].set_ylabel('Number of Zones')\n",
    "axes[0,1].set_yscale('log')\n",
    "\n",
    "# Top zones\n",
    "axes[1,0].barh(range(len(yellow_top20)), yellow_top20['count'])\n",
    "axes[1,0].set_title('Top 20 Yellow Taxi Zones (Jan-June 2024)')\n",
    "axes[1,0].set_xlabel('Total Trip Count')\n",
    "axes[1,0].invert_yaxis()\n",
    "\n",
    "axes[1,1].barh(range(len(green_top20)), green_top20['count'])\n",
    "axes[1,1].set_title('Top 20 Green Taxi Zones (Jan-June 2024)')\n",
    "axes[1,1].set_xlabel('Total Trip Count')\n",
    "axes[1,1].invert_yaxis()\n",
    "\n",
    "plt.tight_layout()\n",
    "plt.show()\n",
    "\n",
    "print(f\"Most active yellow zone: {yellow_top20.iloc[0]['PULocationID']} ({yellow_top20.iloc[0]['count']:,} trips)\")\n",
    "print(f\"Most active green zone: {green_top20.iloc[0]['PULocationID']} ({green_top20.iloc[0]['count']:,} trips)\")"
   ]
  },
  {
   "cell_type": "markdown",
   "id": "7ad43b1f",
   "metadata": {},
   "source": [
    "## Data Quality Assessment Across Complete Dataset\n",
    "\n",
    "Comprehensive data quality analysis across all 6 months of training data."
   ]
  },
  {
   "cell_type": "code",
   "execution_count": 10,
   "id": "f224fa81",
   "metadata": {},
   "outputs": [
    {
     "name": "stdout",
     "output_type": "stream",
     "text": [
      "=== COMPREHENSIVE DATA QUALITY ASSESSMENT ===\n"
     ]
    },
    {
     "name": "stderr",
     "output_type": "stream",
     "text": [
      "                                                                                \r"
     ]
    },
    {
     "name": "stdout",
     "output_type": "stream",
     "text": [
      "Yellow taxi missing values:\n",
      "  passenger_count: 1,975,985 (9.72%)\n",
      "  RatecodeID: 1,975,985 (9.72%)\n",
      "  store_and_fwd_flag: 1,975,985 (9.72%)\n",
      "  congestion_surcharge: 1,975,985 (9.72%)\n",
      "  Airport_fee: 1,975,985 (9.72%)\n",
      "\n",
      "Green taxi missing values:\n",
      "  store_and_fwd_flag: 14,219 (4.18%)\n",
      "  RatecodeID: 14,219 (4.18%)\n",
      "  passenger_count: 14,219 (4.18%)\n",
      "  ehail_fee: 339,807 (100.00%)\n",
      "  payment_type: 14,219 (4.18%)\n",
      "  trip_type: 14,268 (4.20%)\n",
      "  congestion_surcharge: 14,219 (4.18%)\n"
     ]
    }
   ],
   "source": [
    "# Missing values analysis across complete dataset\n",
    "print(\"=== COMPREHENSIVE DATA QUALITY ASSESSMENT ===\")\n",
    "\n",
    "# Yellow taxi data quality\n",
    "yellow_total = yellow_full.count()\n",
    "yellow_quality = {}\n",
    "\n",
    "for col_name in yellow_full.columns:\n",
    "    missing_count = yellow_full.filter(col(col_name).isNull()).count()\n",
    "    if missing_count > 0:\n",
    "        yellow_quality[col_name] = {\n",
    "            'missing_count': missing_count,\n",
    "            'missing_pct': (missing_count / yellow_total) * 100\n",
    "        }\n",
    "\n",
    "print(\"Yellow taxi missing values:\")\n",
    "for col_name, stats in yellow_quality.items():\n",
    "    print(f\"  {col_name}: {stats['missing_count']:,} ({stats['missing_pct']:.2f}%)\")\n",
    "\n",
    "# Green taxi data quality\n",
    "green_total = green_full.count()\n",
    "green_quality = {}\n",
    "\n",
    "for col_name in green_full.columns:\n",
    "    missing_count = green_full.filter(col(col_name).isNull()).count()\n",
    "    if missing_count > 0:\n",
    "        green_quality[col_name] = {\n",
    "            'missing_count': missing_count,\n",
    "            'missing_pct': (missing_count / green_total) * 100\n",
    "        }\n",
    "\n",
    "print(\"\\nGreen taxi missing values:\")\n",
    "for col_name, stats in green_quality.items():\n",
    "    print(f\"  {col_name}: {stats['missing_count']:,} ({stats['missing_pct']:.2f}%)\")"
   ]
  },
  {
   "cell_type": "code",
   "execution_count": null,
   "id": "ce4c2819",
   "metadata": {},
   "outputs": [
    {
     "name": "stdout",
     "output_type": "stream",
     "text": [
      "=== ZONE ID VALIDATION (COMPLETE DATASET) ===\n"
     ]
    },
    {
     "name": "stderr",
     "output_type": "stream",
     "text": [
      "                                                                                \r"
     ]
    },
    {
     "name": "stdout",
     "output_type": "stream",
     "text": [
      "Invalid yellow pickup zones: 76,985 (0.379%)\n",
      "Invalid yellow dropoff zones: 182,163 (0.896%)\n",
      "Invalid green pickup zones: 925 (0.272%)\n",
      "Invalid green dropoff zones: 3,854 (1.134%)\n"
     ]
    },
    {
     "name": "stderr",
     "output_type": "stream",
     "text": [
      "[Stage 272:=============================================>         (40 + 8) / 48]\r"
     ]
    },
    {
     "name": "stdout",
     "output_type": "stream",
     "text": [
      "\n",
      "Valid yellow trips after zone filtering: 20,123,221 (98.97%)\n",
      "Valid green trips after zone filtering: 335,779 (98.81%)\n"
     ]
    },
    {
     "name": "stderr",
     "output_type": "stream",
     "text": [
      "                                                                                \r"
     ]
    }
   ],
   "source": [
    "# Zone ID validation across complete dataset\n",
    "print(\"=== ZONE ID VALIDATION (COMPLETE DATASET) ===\")\n",
    "\n",
    "# Invalid zones (outside 1-263 range since 264 and 265 are N/A or Unknown)\n",
    "yellow_invalid_pu = yellow_full.filter((col(\"PULocationID\") < 1) | (col(\"PULocationID\") > 263)).count()\n",
    "yellow_invalid_do = yellow_full.filter((col(\"DOLocationID\") < 1) | (col(\"DOLocationID\") > 263)).count()\n",
    "green_invalid_pu = green_full.filter((col(\"PULocationID\") < 1) | (col(\"PULocationID\") > 263)).count()\n",
    "green_invalid_do = green_full.filter((col(\"DOLocationID\") < 1) | (col(\"DOLocationID\") > 263)).count()\n",
    "\n",
    "print(f\"Invalid yellow pickup zones: {yellow_invalid_pu:,} ({yellow_invalid_pu/yellow_total*100:.3f}%)\")\n",
    "print(f\"Invalid yellow dropoff zones: {yellow_invalid_do:,} ({yellow_invalid_do/yellow_total*100:.3f}%)\")\n",
    "print(f\"Invalid green pickup zones: {green_invalid_pu:,} ({green_invalid_pu/green_total*100:.3f}%)\")\n",
    "print(f\"Invalid green dropoff zones: {green_invalid_do:,} ({green_invalid_do/green_total*100:.3f}%)\")\n",
    "\n",
    "# Calculate data loss from filtering invalid zones\n",
    "yellow_valid_trips = yellow_full.filter(\n",
    "    (col(\"PULocationID\") >= 1) & (col(\"PULocationID\") <= 263) &\n",
    "    (col(\"DOLocationID\") >= 1) & (col(\"DOLocationID\") <= 263) &\n",
    "    col(\"PULocationID\").isNotNull() & col(\"DOLocationID\").isNotNull()\n",
    ").count()\n",
    "\n",
    "green_valid_trips = green_full.filter(\n",
    "    (col(\"PULocationID\") >= 1) & (col(\"PULocationID\") <= 263) &\n",
    "    (col(\"DOLocationID\") >= 1) & (col(\"DOLocationID\") <= 263) &\n",
    "    col(\"PULocationID\").isNotNull() & col(\"DOLocationID\").isNotNull()\n",
    ").count()\n",
    "\n",
    "print(f\"\\nValid yellow trips after zone filtering: {yellow_valid_trips:,} ({yellow_valid_trips/yellow_total*100:.2f}%)\")\n",
    "print(f\"Valid green trips after zone filtering: {green_valid_trips:,} ({green_valid_trips/green_total*100:.2f}%)\")"
   ]
  },
  {
   "cell_type": "markdown",
   "id": "11204448",
   "metadata": {},
   "source": [
    "## 6. Trip Characteristics Analysis\n",
    "\n",
    "Analyzing trip patterns across the complete 6-month dataset."
   ]
  },
  {
   "cell_type": "code",
   "execution_count": 12,
   "id": "e1eab110",
   "metadata": {},
   "outputs": [
    {
     "name": "stdout",
     "output_type": "stream",
     "text": [
      "=== TRIP CHARACTERISTICS (COMPLETE DATASET) ===\n"
     ]
    },
    {
     "name": "stderr",
     "output_type": "stream",
     "text": [
      "                                                                                \r"
     ]
    },
    {
     "name": "stdout",
     "output_type": "stream",
     "text": [
      "Yellow taxi trip distance (6 months):\n",
      "  Mean: 4.70 miles\n",
      "  Median: 1.75 miles\n",
      "  95th percentile: 13.42 miles\n",
      "  99th percentile: 19.87 miles\n",
      "  Zero distance: 364,322 trips\n",
      "  >100 miles: 725 trips\n",
      "  Negative distance: 0 trips\n"
     ]
    },
    {
     "name": "stderr",
     "output_type": "stream",
     "text": [
      "[Stage 281:===================================================>   (45 + 3) / 48]\r"
     ]
    },
    {
     "name": "stdout",
     "output_type": "stream",
     "text": [
      "\n",
      "Yellow taxi trip duration (6 months):\n",
      "  Mean: 16.9 minutes\n",
      "  Median: 12.6 minutes\n",
      "  95th percentile: 42.1 minutes\n",
      "  >8 hours: 10,945 trips\n",
      "  <1 minute: 235,582 trips\n",
      "  Negative duration: 300 trips\n"
     ]
    },
    {
     "name": "stderr",
     "output_type": "stream",
     "text": [
      "                                                                                \r"
     ]
    }
   ],
   "source": [
    "# Trip distance and duration analysis on complete dataset\n",
    "print(\"=== TRIP CHARACTERISTICS (COMPLETE DATASET) ===\")\n",
    "\n",
    "# Yellow taxi comprehensive trip stats\n",
    "yellow_trip_stats = yellow_full.select(\n",
    "    mean(\"trip_distance\").alias(\"mean_distance\"),\n",
    "    expr(\"percentile_approx(trip_distance, 0.5)\").alias(\"median_distance\"),\n",
    "    expr(\"percentile_approx(trip_distance, 0.95)\").alias(\"p95_distance\"),\n",
    "    expr(\"percentile_approx(trip_distance, 0.99)\").alias(\"p99_distance\"),\n",
    "    sum((col(\"trip_distance\") == 0).cast(\"int\")).alias(\"zero_distance\"),\n",
    "    sum((col(\"trip_distance\") > 100).cast(\"int\")).alias(\"extreme_distance\"),\n",
    "    sum((col(\"trip_distance\") < 0).cast(\"int\")).alias(\"negative_distance\")\n",
    ").collect()[0]\n",
    "\n",
    "print(\"Yellow taxi trip distance (6 months):\")\n",
    "print(f\"  Mean: {yellow_trip_stats['mean_distance']:.2f} miles\")\n",
    "print(f\"  Median: {yellow_trip_stats['median_distance']:.2f} miles\")\n",
    "print(f\"  95th percentile: {yellow_trip_stats['p95_distance']:.2f} miles\")\n",
    "print(f\"  99th percentile: {yellow_trip_stats['p99_distance']:.2f} miles\")\n",
    "print(f\"  Zero distance: {yellow_trip_stats['zero_distance']:,} trips\")\n",
    "print(f\"  >100 miles: {yellow_trip_stats['extreme_distance']:,} trips\")\n",
    "print(f\"  Negative distance: {yellow_trip_stats['negative_distance']:,} trips\")\n",
    "\n",
    "# Duration analysis\n",
    "yellow_with_duration = yellow_full.withColumn(\n",
    "    \"duration_minutes\",\n",
    "    (unix_timestamp(\"tpep_dropoff_datetime\") - unix_timestamp(\"tpep_pickup_datetime\")) / 60\n",
    ")\n",
    "\n",
    "duration_stats = yellow_with_duration.select(\n",
    "    mean(\"duration_minutes\").alias(\"mean_duration\"),\n",
    "    expr(\"percentile_approx(duration_minutes, 0.5)\").alias(\"median_duration\"),\n",
    "    expr(\"percentile_approx(duration_minutes, 0.95)\").alias(\"p95_duration\"),\n",
    "    sum((col(\"duration_minutes\") > 480).cast(\"int\")).alias(\"very_long_trips\"),\n",
    "    sum((col(\"duration_minutes\") < 0).cast(\"int\")).alias(\"negative_duration\"),\n",
    "    sum((col(\"duration_minutes\") < 1).cast(\"int\")).alias(\"very_short_trips\")\n",
    ").collect()[0]\n",
    "\n",
    "print(f\"\\nYellow taxi trip duration (6 months):\")\n",
    "print(f\"  Mean: {duration_stats['mean_duration']:.1f} minutes\")\n",
    "print(f\"  Median: {duration_stats['median_duration']:.1f} minutes\") \n",
    "print(f\"  95th percentile: {duration_stats['p95_duration']:.1f} minutes\")\n",
    "print(f\"  >8 hours: {duration_stats['very_long_trips']:,} trips\")\n",
    "print(f\"  <1 minute: {duration_stats['very_short_trips']:,} trips\")\n",
    "print(f\"  Negative duration: {duration_stats['negative_duration']:,} trips\")"
   ]
  },
  {
   "cell_type": "markdown",
   "id": "4eb2610a",
   "metadata": {},
   "source": [
    "## Temporal Patterns Analysis\n",
    "\n",
    "Understanding temporal variations across the complete training period."
   ]
  },
  {
   "cell_type": "code",
   "execution_count": 13,
   "id": "2e51f615",
   "metadata": {},
   "outputs": [
    {
     "name": "stdout",
     "output_type": "stream",
     "text": [
      "=== TEMPORAL PATTERNS ANALYSIS ===\n"
     ]
    },
    {
     "name": "stderr",
     "output_type": "stream",
     "text": [
      "                                                                                \r"
     ]
    },
    {
     "name": "stdout",
     "output_type": "stream",
     "text": [
      "Monthly trip distribution:\n",
      "  data_month  yellow_trips  green_trips  total_trips\n",
      "0    2024-01       2964624        56551      3021175\n",
      "1    2024-02       3007526        53577      3061103\n",
      "2    2024-03       3582628        57457      3640085\n",
      "3    2024-04       3514289        56471      3570760\n",
      "4    2024-05       3723833        61003      3784836\n",
      "5    2024-06       3539193        54748      3593941\n"
     ]
    },
    {
     "name": "stderr",
     "output_type": "stream",
     "text": [
      "                                                                                \r"
     ]
    },
    {
     "data": {
      "image/png": "[encoded data removed]",
      "text/plain": [
       "<Figure size 1500x1000 with 4 Axes>"
      ]
     },
     "metadata": {},
     "output_type": "display_data"
    },
    {
     "name": "stdout",
     "output_type": "stream",
     "text": [
      "Peak day: Thu (Yellow)\n",
      "Peak hour: 18:00 (Yellow)\n"
     ]
    }
   ],
   "source": [
    "# Monthly trend analysis\n",
    "print(\"=== TEMPORAL PATTERNS ANALYSIS ===\")\n",
    "\n",
    "# Monthly totals and trends\n",
    "monthly_comparison = yellow_monthly.join(green_monthly, \"data_month\", \"outer\") \\\n",
    "    .select(\n",
    "        col(\"data_month\"),\n",
    "        coalesce(yellow_monthly[\"count\"], lit(0)).alias(\"yellow_trips\"),\n",
    "        coalesce(green_monthly[\"count\"], lit(0)).alias(\"green_trips\")\n",
    "    ).withColumn(\n",
    "        \"total_trips\", col(\"yellow_trips\") + col(\"green_trips\")\n",
    "    ).orderBy(\"data_month\")\n",
    "\n",
    "monthly_data = monthly_comparison.toPandas()\n",
    "print(\"Monthly trip distribution:\")\n",
    "print(monthly_data)\n",
    "\n",
    "# Day of week patterns\n",
    "yellow_dow = yellow_full.select(\n",
    "    dayofweek(\"tpep_pickup_datetime\").alias(\"day_of_week\")\n",
    ").groupBy(\"day_of_week\").count().orderBy(\"day_of_week\").toPandas()\n",
    "\n",
    "green_dow = green_full.select(\n",
    "    dayofweek(\"lpep_pickup_datetime\").alias(\"day_of_week\")\n",
    ").groupBy(\"day_of_week\").count().orderBy(\"day_of_week\").toPandas()\n",
    "\n",
    "# Hour of day patterns\n",
    "yellow_hour = yellow_full.select(\n",
    "    hour(\"tpep_pickup_datetime\").alias(\"hour\")\n",
    ").groupBy(\"hour\").count().orderBy(\"hour\").toPandas()\n",
    "\n",
    "green_hour = green_full.select(\n",
    "    hour(\"lpep_pickup_datetime\").alias(\"hour\")\n",
    ").groupBy(\"hour\").count().orderBy(\"hour\").toPandas()\n",
    "\n",
    "# Visualize temporal patterns\n",
    "fig, axes = plt.subplots(2, 2, figsize=(15, 10))\n",
    "\n",
    "# Monthly trends\n",
    "axes[0,0].plot(monthly_data['data_month'], monthly_data['yellow_trips'], \n",
    "               label='Yellow', color='gold', linewidth=2, marker='o')\n",
    "axes[0,0].plot(monthly_data['data_month'], monthly_data['green_trips'], \n",
    "               label='Green', color='green', linewidth=2, marker='s')\n",
    "axes[0,0].set_title('Monthly Trip Volume (Jan-June 2024)')\n",
    "axes[0,0].set_xlabel('Month')\n",
    "axes[0,0].set_ylabel('Trip Count')\n",
    "axes[0,0].legend()\n",
    "axes[0,0].tick_params(axis='x', rotation=45)\n",
    "\n",
    "# Day of week patterns\n",
    "day_labels = ['Sun', 'Mon', 'Tue', 'Wed', 'Thu', 'Fri', 'Sat']\n",
    "axes[0,1].bar(range(len(yellow_dow)), yellow_dow['count'], alpha=0.7, label='Yellow', color='gold')\n",
    "axes[0,1].bar(range(len(green_dow)), green_dow['count'], alpha=0.7, label='Green', color='green')\n",
    "axes[0,1].set_title('Day of Week Distribution')\n",
    "axes[0,1].set_xlabel('Day of Week')\n",
    "axes[0,1].set_ylabel('Trip Count')\n",
    "axes[0,1].set_xticks(range(7))\n",
    "axes[0,1].set_xticklabels(day_labels)\n",
    "axes[0,1].legend()\n",
    "\n",
    "# Hourly patterns\n",
    "axes[1,0].plot(yellow_hour['hour'], yellow_hour['count'], label='Yellow', color='gold', linewidth=2)\n",
    "axes[1,0].plot(green_hour['hour'], green_hour['count'], label='Green', color='green', linewidth=2)\n",
    "axes[1,0].set_title('Hourly Trip Distribution')\n",
    "axes[1,0].set_xlabel('Hour of Day')\n",
    "axes[1,0].set_ylabel('Trip Count')\n",
    "axes[1,0].legend()\n",
    "\n",
    "# Trip distance distribution (sampled)\n",
    "distance_sample = yellow_full.select(\"trip_distance\").filter(\n",
    "    (col(\"trip_distance\") > 0) & (col(\"trip_distance\") <= 30)\n",
    ").sample(0.001).toPandas()\n",
    "\n",
    "axes[1,1].hist(distance_sample['trip_distance'], bins=50, alpha=0.7, color='blue')\n",
    "axes[1,1].set_title('Trip Distance Distribution (0-30 miles, 0.1% sample)')\n",
    "axes[1,1].set_xlabel('Distance (miles)')\n",
    "axes[1,1].set_ylabel('Frequency')\n",
    "\n",
    "plt.tight_layout()\n",
    "plt.show()\n",
    "\n",
    "print(f\"Peak day: {day_labels[yellow_dow.loc[yellow_dow['count'].idxmax(), 'day_of_week']-1]} (Yellow)\")\n",
    "print(f\"Peak hour: {yellow_hour.loc[yellow_hour['count'].idxmax(), 'hour']}:00 (Yellow)\")"
   ]
  },
  {
   "cell_type": "code",
   "execution_count": null,
   "id": "c535df45",
   "metadata": {},
   "outputs": [
    {
     "name": "stdout",
     "output_type": "stream",
     "text": [
      "=== SAVING DATASETS FOR NEXT NOTEBOOKS ===\n"
     ]
    },
    {
     "name": "stderr",
     "output_type": "stream",
     "text": [
      "25/08/12 20:59:37 WARN MemoryManager: Total allocation exceeds 95.00% (1,020,054,720 bytes) of heap memory\n",
      "Scaling row group sizes to 95.00% for 8 writers\n",
      "25/08/12 20:59:40 WARN MemoryManager: Total allocation exceeds 95.00% (1,020,054,720 bytes) of heap memory\n",
      "Scaling row group sizes to 95.00% for 8 writers\n",
      "25/08/12 20:59:40 WARN MemoryManager: Total allocation exceeds 95.00% (1,020,054,720 bytes) of heap memory\n",
      "Scaling row group sizes to 95.00% for 8 writers\n",
      "25/08/12 20:59:41 WARN MemoryManager: Total allocation exceeds 95.00% (1,020,054,720 bytes) of heap memory\n",
      "Scaling row group sizes to 95.00% for 8 writers\n",
      "25/08/12 20:59:41 WARN MemoryManager: Total allocation exceeds 95.00% (1,020,054,720 bytes) of heap memory\n",
      "Scaling row group sizes to 95.00% for 8 writers\n",
      "25/08/12 20:59:41 WARN MemoryManager: Total allocation exceeds 95.00% (1,020,054,720 bytes) of heap memory\n",
      "Scaling row group sizes to 95.00% for 8 writers\n",
      "25/08/12 20:59:43 WARN MemoryManager: Total allocation exceeds 95.00% (1,020,054,720 bytes) of heap memory\n",
      "Scaling row group sizes to 95.00% for 8 writers\n",
      "                                                                                \r"
     ]
    },
    {
     "name": "stdout",
     "output_type": "stream",
     "text": [
      "Saved yellow_2024_complete.parquet: 20,332,093 records\n",
      "Saved green_2024_complete.parquet: 339,807 records\n",
      "Exploration complete.\n"
     ]
    }
   ],
   "source": [
    "# Save the complete datasets for use in subsequent notebooks\n",
    "print(\"=== SAVING DATASETS FOR NEXT NOTEBOOKS ===\")\n",
    "\n",
    "yellow_full.write.mode(\"overwrite\").parquet(\"../data/interim/yellow_2024_complete.parquet\")\n",
    "green_full.write.mode(\"overwrite\").parquet(\"../data/interim/green_2024_complete.parquet\")\n",
    "\n",
    "print(f\"Saved yellow_2024_complete.parquet: {yellow_total:,} records\")\n",
    "print(f\"Saved green_2024_complete.parquet: {green_total:,} records\")\n",
    "\n",
    "# Stop Spark session\n",
    "spark.stop()"
   ]
  },
  {
   "cell_type": "code",
   "execution_count": null,
   "id": "551865cf",
   "metadata": {},
   "outputs": [],
   "source": []
  }
 ],
 "metadata": {
  "kernelspec": {
   "display_name": ".venv",
   "language": "python",
   "name": "python3"
  },
  "language_info": {
   "codemirror_mode": {
    "name": "ipython",
    "version": 3
   },
   "file_extension": ".py",
   "mimetype": "text/x-python",
   "name": "python",
   "nbconvert_exporter": "python",
   "pygments_lexer": "ipython3",
   "version": "3.11.11"
  }
 },
 "nbformat": 4,
 "nbformat_minor": 5
}
