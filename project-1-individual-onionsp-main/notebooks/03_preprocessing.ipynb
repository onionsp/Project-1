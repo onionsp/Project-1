{
 "cells": [
  {
   "cell_type": "markdown",
   "id": "6b2189b2",
   "metadata": {},
   "source": [
    "# Data Preprocessing\n",
    "\n",
    "This notebook preprocesses and aggregates taxi trip data to daily zone-level for modeling, integrates external datasets, and creates features for service consistency analysis."
   ]
  },
  {
   "cell_type": "code",
   "execution_count": 1,
   "id": "f563bd10",
   "metadata": {},
   "outputs": [
    {
     "name": "stderr",
     "output_type": "stream",
     "text": [
      "WARNING: Using incubator modules: jdk.incubator.vector\n",
      "Using Spark's default log4j profile: org/apache/spark/log4j2-defaults.properties\n",
      "25/08/14 08:42:11 WARN Utils: Your hostname, Jordans-MBP.local, resolves to a loopback address: 127.0.0.1; using 10.13.252.224 instead (on interface en0)\n",
      "25/08/14 08:42:11 WARN Utils: Set SPARK_LOCAL_IP if you need to bind to another address\n",
      "Using Spark's default log4j profile: org/apache/spark/log4j2-defaults.properties\n",
      "Setting default log level to \"WARN\".\n",
      "To adjust logging level use sc.setLogLevel(newLevel). For SparkR, use setLogLevel(newLevel).\n",
      "25/08/14 08:42:14 WARN NativeCodeLoader: Unable to load native-hadoop library for your platform... using builtin-java classes where applicable\n"
     ]
    }
   ],
   "source": [
    "from pyspark.sql import SparkSession\n",
    "from pyspark.sql.functions import *\n",
    "from pyspark.sql.types import *\n",
    "\n",
    "# Initialize Spark session\n",
    "spark = SparkSession.builder \\\n",
    "    .appName(\"TLC_Data_Preprocessing\") \\\n",
    "    .config(\"spark.sql.adaptive.enabled\", \"true\") \\\n",
    "    .config(\"spark.sql.adaptive.coalescePartitions.enabled\", \"true\") \\\n",
    "    .config(\"spark.executor.memory\", \"4g\") \\\n",
    "    .getOrCreate()"
   ]
  },
  {
   "cell_type": "markdown",
   "id": "bad97b2c",
   "metadata": {},
   "source": [
    "## 1. Load Raw Datasets"
   ]
  },
  {
   "cell_type": "code",
   "execution_count": 2,
   "id": "9069acc5",
   "metadata": {},
   "outputs": [
    {
     "name": "stderr",
     "output_type": "stream",
     "text": [
      "                                                                                \r"
     ]
    },
    {
     "name": "stdout",
     "output_type": "stream",
     "text": [
      "Raw data: Yellow= 20,332,093, Green= 339,807\n",
      "External: 265 zones, 363 weather days, 668 census zones\n"
     ]
    }
   ],
   "source": [
    "# Load taxi data (2024 training period)\n",
    "yellow_df = spark.read.parquet(\"../data/interim/yellow_2024_complete.parquet\")\n",
    "green_df = spark.read.parquet(\"../data/interim/green_2024_complete.parquet\")\n",
    "\n",
    "# Load external data\n",
    "zones_df = spark.read.parquet(\"../data/processed/taxi_zones.parquet\")\n",
    "weather_df = spark.read.parquet(\"../data/processed/weather_data.parquet\")\n",
    "census_df = spark.read.parquet(\"../data/processed/census_data.parquet\")\n",
    "\n",
    "print(f\"Raw data: Yellow= {yellow_df.count():,}, Green= {green_df.count():,}\")\n",
    "print(f\"External: {zones_df.count()} zones, {weather_df.count()} weather days, {census_df.count()} census zones\")"
   ]
  },
  {
   "cell_type": "code",
   "execution_count": 3,
   "id": "17f49fd1",
   "metadata": {},
   "outputs": [
    {
     "name": "stdout",
     "output_type": "stream",
     "text": [
      "root\n",
      " |-- VendorID: integer (nullable = true)\n",
      " |-- tpep_pickup_datetime: timestamp_ntz (nullable = true)\n",
      " |-- tpep_dropoff_datetime: timestamp_ntz (nullable = true)\n",
      " |-- passenger_count: long (nullable = true)\n",
      " |-- trip_distance: double (nullable = true)\n",
      " |-- RatecodeID: long (nullable = true)\n",
      " |-- store_and_fwd_flag: string (nullable = true)\n",
      " |-- PULocationID: integer (nullable = true)\n",
      " |-- DOLocationID: integer (nullable = true)\n",
      " |-- payment_type: long (nullable = true)\n",
      " |-- fare_amount: double (nullable = true)\n",
      " |-- extra: double (nullable = true)\n",
      " |-- mta_tax: double (nullable = true)\n",
      " |-- tip_amount: double (nullable = true)\n",
      " |-- tolls_amount: double (nullable = true)\n",
      " |-- improvement_surcharge: double (nullable = true)\n",
      " |-- total_amount: double (nullable = true)\n",
      " |-- congestion_surcharge: double (nullable = true)\n",
      " |-- Airport_fee: double (nullable = true)\n",
      " |-- data_month: string (nullable = true)\n",
      "\n"
     ]
    }
   ],
   "source": [
    "yellow_df.printSchema()"
   ]
  },
  {
   "cell_type": "markdown",
   "id": "6b5d9a5b",
   "metadata": {},
   "source": [
    "## 2. Data Cleaning and Filtering"
   ]
  },
  {
   "cell_type": "code",
   "execution_count": 4,
   "id": "a4f3f094",
   "metadata": {},
   "outputs": [
    {
     "name": "stderr",
     "output_type": "stream",
     "text": [
      "                                                                                \r"
     ]
    },
    {
     "name": "stdout",
     "output_type": "stream",
     "text": [
      "After cleaning: Yellow=20,122,742 (99.0%)\n",
      "After cleaning: Green=335,640 (98.8%)\n"
     ]
    }
   ],
   "source": [
    "# Filter valid trips (valid zones, reasonable trip characteristics)\n",
    "def clean_taxi_data(df, pickup_col, dropoff_col, datetime_col):\n",
    "    return df.filter(\n",
    "        (col(\"PULocationID\") >= 1) & (col(\"PULocationID\") <= 263) &\n",
    "        (col(\"DOLocationID\") >= 1) & (col(\"DOLocationID\") <= 263) &\n",
    "        col(\"PULocationID\").isNotNull() & col(\"DOLocationID\").isNotNull() &\n",
    "        (col(\"trip_distance\") >= 0) & (col(\"trip_distance\") <= 200) &\n",
    "        col(datetime_col).isNotNull()\n",
    "    )\n",
    "\n",
    "# Clean datasets\n",
    "yellow_clean = clean_taxi_data(yellow_df, \"PULocationID\", \"DOLocationID\", \"tpep_pickup_datetime\")\n",
    "green_clean = clean_taxi_data(green_df, \"PULocationID\", \"DOLocationID\", \"lpep_pickup_datetime\")\n",
    "\n",
    "yellow_clean_count = yellow_clean.count()\n",
    "green_clean_count = green_clean.count()\n",
    "\n",
    "print(f\"After cleaning: Yellow={yellow_clean_count:,} ({yellow_clean_count/yellow_df.count()*100:.1f}%)\")\n",
    "print(f\"After cleaning: Green={green_clean_count:,} ({green_clean_count/green_df.count()*100:.1f}%)\")"
   ]
  },
  {
   "cell_type": "code",
   "execution_count": 5,
   "id": "90aa6ff2",
   "metadata": {},
   "outputs": [
    {
     "name": "stdout",
     "output_type": "stream",
     "text": [
      "Missing passenger counts: Yellow=1969910, Green=13990\n"
     ]
    }
   ],
   "source": [
    "missing_yellow_passengers = yellow_clean.filter(col(\"passenger_count\").isNull()).count()\n",
    "missing_green_passengers = green_clean.filter(col(\"passenger_count\").isNull()).count()\n",
    "print(f\"Missing passenger counts: Yellow={missing_yellow_passengers}, Green={missing_green_passengers}\")"
   ]
  },
  {
   "cell_type": "code",
   "execution_count": 8,
   "id": "54e84281",
   "metadata": {},
   "outputs": [
    {
     "name": "stderr",
     "output_type": "stream",
     "text": [
      "[Stage 50:===================================================>     (9 + 1) / 10]\r"
     ]
    },
    {
     "name": "stdout",
     "output_type": "stream",
     "text": [
      "Imputed nulls with median: Yellow=1, Green=1\n"
     ]
    },
    {
     "name": "stderr",
     "output_type": "stream",
     "text": [
      "                                                                                \r"
     ]
    }
   ],
   "source": [
    "# Calculate median passenger count and impute nulls\n",
    "yellow_median = yellow_clean.select(expr(\"percentile_approx(passenger_count, 0.5)\")).collect()[0][0]\n",
    "green_median = green_clean.select(expr(\"percentile_approx(passenger_count, 0.5)\")).collect()[0][0]\n",
    "\n",
    "# Round to whole number using Python's round function\n",
    "yellow_median = int(yellow_median)\n",
    "green_median = int(green_median)\n",
    "\n",
    "# Impute nulls with median\n",
    "yellow_clean = yellow_clean.fillna({\"passenger_count\": yellow_median})\n",
    "green_clean = green_clean.fillna({\"passenger_count\": green_median})\n",
    "\n",
    "print(f\"Imputed nulls with median: Yellow={yellow_median}, Green={green_median}\")"
   ]
  },
  {
   "cell_type": "code",
   "execution_count": 9,
   "id": "cd8b4968",
   "metadata": {},
   "outputs": [
    {
     "name": "stdout",
     "output_type": "stream",
     "text": [
      "Missing passenger counts: Yellow=0, Green=0\n"
     ]
    }
   ],
   "source": [
    "missing_yellow_passengers = yellow_clean.filter(col(\"passenger_count\").isNull()).count()\n",
    "missing_green_passengers = green_clean.filter(col(\"passenger_count\").isNull()).count()\n",
    "print(f\"Missing passenger counts: Yellow={missing_yellow_passengers}, Green={missing_green_passengers}\")"
   ]
  },
  {
   "cell_type": "markdown",
   "id": "9251410a",
   "metadata": {},
   "source": [
    "## Aggregate to Daily Zone Level"
   ]
  },
  {
   "cell_type": "code",
   "execution_count": 10,
   "id": "35749380",
   "metadata": {},
   "outputs": [
    {
     "name": "stderr",
     "output_type": "stream",
     "text": [
      "                                                                                \r"
     ]
    },
    {
     "name": "stdout",
     "output_type": "stream",
     "text": [
      "Daily zone aggregation: 41,670 zone-day records\n"
     ]
    },
    {
     "name": "stderr",
     "output_type": "stream",
     "text": [
      "[Stage 83:===================================================>     (9 + 1) / 10]\r"
     ]
    },
    {
     "name": "stdout",
     "output_type": "stream",
     "text": [
      "Date range: 2002-12-31 to 2026-06-26\n",
      "Zones with activity: 260\n"
     ]
    },
    {
     "name": "stderr",
     "output_type": "stream",
     "text": [
      "                                                                                \r"
     ]
    }
   ],
   "source": [
    "# Aggregate yellow taxi to daily zone level\n",
    "yellow_daily = yellow_clean.select(\n",
    "    col(\"PULocationID\").alias(\"LocationID\"),\n",
    "    date_format(\"tpep_pickup_datetime\", \"yyyy-MM-dd\").alias(\"date\"),\n",
    "    col(\"trip_distance\"),\n",
    "    col(\"passenger_count\")\n",
    ").groupBy(\"LocationID\", \"date\").agg(\n",
    "    count(\"*\").alias(\"trip_count\"),\n",
    "    avg(\"trip_distance\").alias(\"avg_trip_distance\"),\n",
    "    sum(\"passenger_count\").alias(\"total_passengers\")\n",
    ").withColumn(\"taxi_type\", lit(\"yellow\"))\n",
    "\n",
    "# Aggregate green taxi to daily zone level  \n",
    "green_daily = green_clean.select(\n",
    "    col(\"PULocationID\").alias(\"LocationID\"),\n",
    "    date_format(\"lpep_pickup_datetime\", \"yyyy-MM-dd\").alias(\"date\"),\n",
    "    col(\"trip_distance\"), \n",
    "    col(\"passenger_count\")\n",
    ").groupBy(\"LocationID\", \"date\").agg(\n",
    "    count(\"*\").alias(\"trip_count\"),\n",
    "    avg(\"trip_distance\").alias(\"avg_trip_distance\"),\n",
    "    sum(\"passenger_count\").alias(\"total_passengers\")\n",
    ").withColumn(\"taxi_type\", lit(\"green\"))\n",
    "\n",
    "# Combine yellow and green daily data\n",
    "combined_daily = yellow_daily.union(green_daily)\n",
    "\n",
    "# Aggregate both taxi types to single daily zone level\n",
    "daily_zone_data = combined_daily.groupBy(\"LocationID\", \"date\").agg(\n",
    "    sum(\"trip_count\").alias(\"daily_trips\"),\n",
    "    avg(\"avg_trip_distance\").alias(\"avg_distance\"),\n",
    "    sum(\"total_passengers\").alias(\"daily_passengers\")\n",
    ").withColumn(\"date\", to_date(col(\"date\")))\n",
    "\n",
    "print(f\"Daily zone aggregation: {daily_zone_data.count():,} zone-day records\")\n",
    "\n",
    "# Check aggregation results\n",
    "date_range = daily_zone_data.select(min(\"date\"), max(\"date\")).collect()[0]\n",
    "zone_coverage = daily_zone_data.select(count_distinct(\"LocationID\")).collect()[0][0]\n",
    "print(f\"Date range: {date_range[0]} to {date_range[1]}\")\n",
    "print(f\"Zones with activity: {zone_coverage}\")"
   ]
  },
  {
   "cell_type": "code",
   "execution_count": 11,
   "id": "0db48a5d",
   "metadata": {},
   "outputs": [
    {
     "name": "stderr",
     "output_type": "stream",
     "text": [
      "25/08/14 08:45:53 WARN SparkStringUtils: Truncated the string representation of a plan since it was too large. This behavior can be adjusted by setting 'spark.sql.debug.maxToStringFields'.\n",
      "[Stage 97:===================================================>     (9 + 1) / 10]\r"
     ]
    },
    {
     "name": "stdout",
     "output_type": "stream",
     "text": [
      "+-------+-----------------+-----------------+------------------+------------------+\n",
      "|summary|       LocationID|      daily_trips|      avg_distance|  daily_passengers|\n",
      "+-------+-----------------+-----------------+------------------+------------------+\n",
      "|  count|            41670|            41670|             41670|             41670|\n",
      "|   mean|133.8241420686345|490.9618910487161| 5.074548956623695| 638.1779457643388|\n",
      "| stddev|75.98234935653612|1095.038095269522|3.3930462328990587|1435.5483376644302|\n",
      "|    min|                1|                1|               0.0|                 0|\n",
      "|    max|              263|             7922|              64.7|             10066|\n",
      "+-------+-----------------+-----------------+------------------+------------------+\n",
      "\n"
     ]
    },
    {
     "name": "stderr",
     "output_type": "stream",
     "text": [
      "                                                                                \r"
     ]
    }
   ],
   "source": [
    "daily_zone_data.describe().show()"
   ]
  },
  {
   "cell_type": "markdown",
   "id": "d3c16d98",
   "metadata": {},
   "source": [
    "## 4. Add Temporal Features"
   ]
  },
  {
   "cell_type": "code",
   "execution_count": 12,
   "id": "65dcb37c",
   "metadata": {},
   "outputs": [
    {
     "name": "stdout",
     "output_type": "stream",
     "text": [
      "Added temporal features: year, month, day_of_week, day_of_month, week_of_year, is_weekend\n"
     ]
    }
   ],
   "source": [
    "# Add temporal features for modeling\n",
    "daily_with_temporal = daily_zone_data.withColumn(\"year\", year(\"date\")) \\\n",
    "    .withColumn(\"month\", month(\"date\")) \\\n",
    "    .withColumn(\"day_of_week\", dayofweek(\"date\")) \\\n",
    "    .withColumn(\"day_of_month\", dayofmonth(\"date\")) \\\n",
    "    .withColumn(\"week_of_year\", weekofyear(\"date\")) \\\n",
    "    .withColumn(\"is_weekend\", when(col(\"day_of_week\").isin([1, 7]), 1).otherwise(0))\n",
    "\n",
    "print(\"Added temporal features: year, month, day_of_week, day_of_month, week_of_year, is_weekend\")"
   ]
  },
  {
   "cell_type": "code",
   "execution_count": 13,
   "id": "cd40bc99",
   "metadata": {},
   "outputs": [
    {
     "name": "stderr",
     "output_type": "stream",
     "text": [
      "[Stage 112:==================================================>     (9 + 1) / 10]\r"
     ]
    },
    {
     "name": "stdout",
     "output_type": "stream",
     "text": [
      "+----------+----------+-----------+------------------+----------------+----+-----+-----------+------------+------------+----------+\n",
      "|LocationID|date      |daily_trips|avg_distance      |daily_passengers|year|month|day_of_week|day_of_month|week_of_year|is_weekend|\n",
      "+----------+----------+-----------+------------------+----------------+----+-----+-----------+------------+------------+----------+\n",
      "|201       |2024-01-02|2          |11.7              |2               |2024|1    |3          |2           |1           |0         |\n",
      "|147       |2024-01-02|2          |2.045             |2               |2024|1    |3          |2           |1           |0         |\n",
      "|238       |2024-01-03|1700       |1.1158652148322543|2232            |2024|1    |4          |3           |1           |0         |\n",
      "|152       |2024-01-03|61         |2.57564858490566  |75              |2024|1    |4          |3           |1           |0         |\n",
      "|177       |2024-01-04|8          |4.597857142857142 |8               |2024|1    |5          |4           |1           |0         |\n",
      "+----------+----------+-----------+------------------+----------------+----+-----+-----------+------------+------------+----------+\n",
      "only showing top 5 rows\n"
     ]
    },
    {
     "name": "stderr",
     "output_type": "stream",
     "text": [
      "                                                                                \r"
     ]
    }
   ],
   "source": [
    "daily_with_temporal.show(5, truncate=False)"
   ]
  },
  {
   "cell_type": "code",
   "execution_count": 14,
   "id": "261259b3",
   "metadata": {},
   "outputs": [
    {
     "name": "stderr",
     "output_type": "stream",
     "text": [
      "[Stage 121:==================================================>     (9 + 1) / 10]\r"
     ]
    },
    {
     "name": "stdout",
     "output_type": "stream",
     "text": [
      "+-------+-------------------+------------------+-----------------+-----------------+------------------+-------------------+\n",
      "|summary|               year|             month|      day_of_week|     day_of_month|      week_of_year|         is_weekend|\n",
      "+-------+-------------------+------------------+-----------------+-----------------+------------------+-------------------+\n",
      "|  count|              41670|             41670|            41670|            41670|             41670|              41670|\n",
      "|   mean| 2023.9927285817134|3.5303575713942883|3.997048236141109|15.70026397888169|13.620878329733621|0.28509719222462204|\n",
      "| stddev|0.36498172884833413| 1.717245819291182|1.998851556161848|8.775644390127718|7.5137456507089775| 0.4514661388621985|\n",
      "|    min|               2002|                 1|                1|                1|                 1|                  0|\n",
      "|    max|               2026|                12|                7|               31|                52|                  1|\n",
      "+-------+-------------------+------------------+-----------------+-----------------+------------------+-------------------+\n",
      "\n"
     ]
    },
    {
     "name": "stderr",
     "output_type": "stream",
     "text": [
      "                                                                                \r"
     ]
    }
   ],
   "source": [
    "daily_with_temporal.select('year', 'month', 'day_of_week', 'day_of_month', 'week_of_year', 'is_weekend').describe().show()"
   ]
  },
  {
   "cell_type": "markdown",
   "id": "16a7bcea",
   "metadata": {},
   "source": [
    "Removing years outside of 2024"
   ]
  },
  {
   "cell_type": "code",
   "execution_count": 15,
   "id": "56012d58",
   "metadata": {},
   "outputs": [
    {
     "name": "stderr",
     "output_type": "stream",
     "text": [
      "[Stage 149:==================================================>     (9 + 1) / 10]\r"
     ]
    },
    {
     "name": "stdout",
     "output_type": "stream",
     "text": [
      "before filtering: 41,670 records, after filtering: 41,641 records\n"
     ]
    },
    {
     "name": "stderr",
     "output_type": "stream",
     "text": [
      "                                                                                \r"
     ]
    }
   ],
   "source": [
    "filtered_daily = daily_with_temporal.filter(col(\"year\") == 2024)\n",
    "\n",
    "print(f\"before filtering: {daily_with_temporal.count():,} records, after filtering: {filtered_daily.count():,} records\")\n"
   ]
  },
  {
   "cell_type": "markdown",
   "id": "37167887",
   "metadata": {},
   "source": [
    "## Integrate External Data"
   ]
  },
  {
   "cell_type": "code",
   "execution_count": 16,
   "id": "1b6850d8",
   "metadata": {},
   "outputs": [
    {
     "name": "stderr",
     "output_type": "stream",
     "text": [
      "                                                                                \r"
     ]
    },
    {
     "name": "stdout",
     "output_type": "stream",
     "text": [
      "Final integrated dataset: 110,738 records\n"
     ]
    },
    {
     "name": "stderr",
     "output_type": "stream",
     "text": [
      "[Stage 180:==================================================>     (9 + 1) / 10]\r"
     ]
    },
    {
     "name": "stdout",
     "output_type": "stream",
     "text": [
      "Integration quality: Weather=10, Census=268, Zones=0\n"
     ]
    },
    {
     "name": "stderr",
     "output_type": "stream",
     "text": [
      "                                                                                \r"
     ]
    }
   ],
   "source": [
    "# Join with weather data\n",
    "daily_with_weather = filtered_daily.join(weather_df, \"date\", \"left\")\n",
    "\n",
    "# Join with census data\n",
    "daily_with_census = daily_with_weather.join(census_df, \"LocationID\", \"left\")\n",
    "\n",
    "\n",
    "# Join with zone information\n",
    "final_daily_data = daily_with_census.join(\n",
    "    zones_df.select(\"LocationID\", \"Zone\", \"Borough\", \"service_zone\"), \n",
    "    \"LocationID\", \"left\"\n",
    ")\n",
    "\n",
    "print(f\"Final integrated dataset: {final_daily_data.count():,} records\")\n",
    "\n",
    "# Check integration success\n",
    "integration_stats = final_daily_data.select(\n",
    "    sum(col(\"temperature_avg\").isNull().cast(\"int\")).alias(\"missing_weather\"),\n",
    "    sum(col(\"Median_Income\").isNull().cast(\"int\")).alias(\"missing_census\"),\n",
    "    sum(col(\"Zone\").isNull().cast(\"int\")).alias(\"missing_zone_info\")\n",
    ").collect()[0]\n",
    "\n",
    "print(f\"Integration quality: Weather={integration_stats['missing_weather']}, Census={integration_stats['missing_census']}, Zones={integration_stats['missing_zone_info']}\")"
   ]
  },
  {
   "cell_type": "code",
   "execution_count": 17,
   "id": "aa7e47e0",
   "metadata": {},
   "outputs": [
    {
     "name": "stderr",
     "output_type": "stream",
     "text": [
      "[Stage 207:>                                                        (0 + 1) / 1]\r"
     ]
    },
    {
     "name": "stdout",
     "output_type": "stream",
     "text": [
      "+-------+------------------+------------------+------------------+------------------+------+------------------+------------------+-----------------+------------------+-------------------+------------------+-----------------+------------------+-----------------+------------------+---------------------+------------------+--------------------+-------------+------------+\n",
      "|summary|        LocationID|       daily_trips|      avg_distance|  daily_passengers|  year|             month|       day_of_week|     day_of_month|      week_of_year|         is_weekend|   temperature_avg| precipitation_mm|           snow_mm|    Median_Income|Percent_No_Vehicle|No_Vehicle_Households|  Total_Households|                Zone|      Borough|service_zone|\n",
      "+-------+------------------+------------------+------------------+------------------+------+------------------+------------------+-----------------+------------------+-------------------+------------------+-----------------+------------------+-----------------+------------------+---------------------+------------------+--------------------+-------------+------------+\n",
      "|  count|            110738|            110738|            110738|            110738|110738|            110738|            110738|           110738|            110738|             110738|            110728|           110728|            110728|           110470|            110470|               110470|            110470|              110738|       110738|      110738|\n",
      "|   mean|128.78721847965468|427.89641315537574|5.0978644563500515|  557.840361935379|2024.0| 3.522729325073597|  3.99738120609005| 15.6922194729903|13.600670050027993|0.28458162509707596|11.627503431832345|4.023512571345595|0.2623004118199552|85065.57444555082| 56.22924242260043|    36537.98758033855| 63058.77336833529|                NULL|         NULL|        NULL|\n",
      "| stddev| 74.68566003829359|1049.5198320993916| 3.224174356791347|1382.9756089698817|   0.0|1.7064031418554693|1.9978433710200751|8.770272405617664| 7.485258716013716| 0.4512169791783954| 7.967575823160254|9.258304193892414|1.1162352252724477|36933.47792924095|19.586747446347374|   19558.153124727916|18146.477517442585|                NULL|         NULL|        NULL|\n",
      "|    min|                 1|                 1|               0.0|                 0|  2024|                 1|                 1|                1|                 1|                  0|              -4.7|              0.0|               0.0|            32428| 7.929810116811609|                 4623|             37549|Allerton/Pelham G...|        Bronx|    Airports|\n",
      "|    max|               263|              7922|              64.7|             10066|  2024|                 7|                 7|               31|                27|                  1|              28.4|             65.2|              10.0|           171480| 84.54381014398379|                83928|            108958|      Yorkville West|Staten Island| Yellow Zone|\n",
      "+-------+------------------+------------------+------------------+------------------+------+------------------+------------------+-----------------+------------------+-------------------+------------------+-----------------+------------------+-----------------+------------------+---------------------+------------------+--------------------+-------------+------------+\n",
      "\n"
     ]
    },
    {
     "name": "stderr",
     "output_type": "stream",
     "text": [
      "                                                                                \r"
     ]
    }
   ],
   "source": [
    "final_daily_data.describe().show()"
   ]
  },
  {
   "cell_type": "code",
   "execution_count": 18,
   "id": "45389768",
   "metadata": {},
   "outputs": [],
   "source": [
    "clean_final = final_daily_data.dropna()"
   ]
  },
  {
   "cell_type": "code",
   "execution_count": 20,
   "id": "13911082",
   "metadata": {},
   "outputs": [
    {
     "name": "stderr",
     "output_type": "stream",
     "text": [
      "[Stage 224:>                                                        (0 + 1) / 1]\r"
     ]
    },
    {
     "name": "stdout",
     "output_type": "stream",
     "text": [
      "+-------+------------------+------------------+-----------------+------------------+------+------------------+------------------+------------------+------------------+-------------------+------------------+-----------------+------------------+-----------------+------------------+---------------------+------------------+--------------------+-------------+------------+\n",
      "|summary|        LocationID|       daily_trips|     avg_distance|  daily_passengers|  year|             month|       day_of_week|      day_of_month|      week_of_year|         is_weekend|   temperature_avg| precipitation_mm|           snow_mm|    Median_Income|Percent_No_Vehicle|No_Vehicle_Households|  Total_Households|                Zone|      Borough|service_zone|\n",
      "+-------+------------------+------------------+-----------------+------------------+------+------------------+------------------+------------------+------------------+-------------------+------------------+-----------------+------------------+-----------------+------------------+---------------------+------------------+--------------------+-------------+------------+\n",
      "|  count|            110460|            110460|           110460|            110460|110460|            110460|            110460|            110460|            110460|             110460|            110460|           110460|            110460|           110460|            110460|               110460|            110460|              110460|       110460|      110460|\n",
      "|   mean|129.05119500271593| 428.9503802281369|5.103932049112105| 559.2054861488322|2024.0|3.5220351258374074|3.9976190476190476|15.692295853702698|13.597646206771682|0.28457360130363935|11.625689842476339|4.023574144486297|0.2623936266521818|85065.06474741988| 56.22829555826864|   36536.613027340216| 63057.48710845555|                NULL|         NULL|        NULL|\n",
      "| stddev| 74.57021550013494|1050.6290591454265|3.220470170662635|1384.4465665455814|   0.0|1.7061632149232357|1.9977634717114816| 8.769927957965477| 7.484486826249191|0.45121315349323404| 7.967482602521515|9.258545344763789| 1.116466182863718|36933.09750570208|19.586809425744715|    19557.52892626102|18145.521192778622|                NULL|         NULL|        NULL|\n",
      "|    min|                 2|                 1|              0.0|                 0|  2024|                 1|                 1|                 1|                 1|                  0|              -4.7|              0.0|               0.0|            32428| 7.929810116811609|                 4623|             37549|Allerton/Pelham G...|        Bronx|    Airports|\n",
      "|    max|               263|              7922|             64.7|             10066|  2024|                 6|                 7|                31|                26|                  1|              28.4|             65.2|              10.0|           171480| 84.54381014398379|                83928|            108958|      Yorkville West|Staten Island| Yellow Zone|\n",
      "+-------+------------------+------------------+-----------------+------------------+------+------------------+------------------+------------------+------------------+-------------------+------------------+-----------------+------------------+-----------------+------------------+---------------------+------------------+--------------------+-------------+------------+\n",
      "\n"
     ]
    },
    {
     "name": "stderr",
     "output_type": "stream",
     "text": [
      "                                                                                \r"
     ]
    }
   ],
   "source": [
    "clean_final.describe().show()"
   ]
  },
  {
   "cell_type": "code",
   "execution_count": 21,
   "id": "a65f6423",
   "metadata": {},
   "outputs": [
    {
     "name": "stderr",
     "output_type": "stream",
     "text": [
      "                                                                                \r"
     ]
    }
   ],
   "source": [
    "clean_final.write.mode(\"overwrite\").parquet(\"../data/processed/daily_zone_final_2024.parquet\")\n"
   ]
  },
  {
   "cell_type": "code",
   "execution_count": null,
   "id": "9b8ebc8d",
   "metadata": {},
   "outputs": [],
   "source": []
  }
 ],
 "metadata": {
  "kernelspec": {
   "display_name": ".venv",
   "language": "python",
   "name": "python3"
  },
  "language_info": {
   "codemirror_mode": {
    "name": "ipython",
    "version": 3
   },
   "file_extension": ".py",
   "mimetype": "text/x-python",
   "name": "python",
   "nbconvert_exporter": "python",
   "pygments_lexer": "ipython3",
   "version": "3.11.11"
  }
 },
 "nbformat": 4,
 "nbformat_minor": 5
}
