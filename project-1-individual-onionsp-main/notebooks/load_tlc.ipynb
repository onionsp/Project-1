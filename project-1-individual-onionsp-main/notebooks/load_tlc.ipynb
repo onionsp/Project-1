{
 "cells": [
  {
   "cell_type": "markdown",
   "id": "795e4e67",
   "metadata": {},
   "source": [
    "# Loading TLC Data\n",
    "\n",
    "This notebook downloads NYC taxi data.\n",
    "- **Training data**: 6 months of 2024 data (yellow and green taxis)\n",
    "- **Testing data**: 6 months of 2025 data (yellow and green taxis)"
   ]
  },
  {
   "cell_type": "code",
   "execution_count": 19,
   "id": "93f5738e",
   "metadata": {},
   "outputs": [
    {
     "name": "stdout",
     "output_type": "stream",
     "text": [
      "Created directory: ../data/raw/taxi_2024\n",
      "Created directory: ../data/raw/taxi_2025\n"
     ]
    }
   ],
   "source": [
    "import os\n",
    "import requests\n",
    "from pathlib import Path\n",
    "import time\n",
    "\n",
    "# Create directory structure for data storage\n",
    "directories = ['../data/raw/taxi_2024', '../data/raw/taxi_2025']\n",
    "for directory in directories:\n",
    "    Path(directory).mkdir(parents=True, exist_ok=True)\n",
    "    print(f\"Created directory: {directory}\")"
   ]
  },
  {
   "cell_type": "markdown",
   "id": "39bcf25f",
   "metadata": {},
   "source": [
    "## Download Function\n",
    "The function below downloads both yellow and green taxi data from the official TLC source."
   ]
  },
  {
   "cell_type": "code",
   "execution_count": 22,
   "id": "4d6a178f",
   "metadata": {},
   "outputs": [],
   "source": [
    "def download_taxi_data(year, months, taxi_types=['yellow', 'green']):\n",
    "    \"\"\"\n",
    "    Downloads NYC taxi data from TLC official source\n",
    "    Args:\n",
    "        year (int): Year to download (2024 or 2025)  \n",
    "        months (list): List of months to download (1-12)\n",
    "        taxi_types (list): Types of taxis to download ('yellow', 'green')\n",
    "    \"\"\"\n",
    "    base_url = \"https://d37ci6vzurychx.cloudfront.net/trip-data\"\n",
    "    \n",
    "    for taxi_type in taxi_types:\n",
    "        print(f\"\\n--- Downloading {taxi_type} taxi data for {year} ---\")\n",
    "        \n",
    "        for month in months:\n",
    "            filename = f\"{taxi_type}_tripdata_{year}-{month:02d}.parquet\"\n",
    "            file_url = f\"{base_url}/{filename}\"\n",
    "            local_path = f\"../data/raw/taxi_{year}/{filename}\"\n",
    "            \n",
    "            # Skip if file already exists\n",
    "            if os.path.exists(local_path):\n",
    "                print(f\"✓ {filename} already exists\")\n",
    "                continue\n",
    "                \n",
    "            print(f\"Downloading {filename}...\")\n",
    "            \n",
    "            try:\n",
    "                response = requests.get(file_url)\n",
    "                response.raise_for_status()  # Check for HTTP errors\n",
    "                \n",
    "                # Save file\n",
    "                with open(local_path, 'wb') as f:\n",
    "                    f.write(response.content)\n",
    "                    \n",
    "                file_size = len(response.content) / (1024*1024)  # Size in MB\n",
    "                print(f\"✓ Downloaded {filename} ({file_size:.1f} MB)\")\n",
    "                \n",
    "                time.sleep(1)  # Brief pause between downloads\n",
    "                \n",
    "            except Exception as e:\n",
    "                print(f\"✗ Failed to download {filename}: {e}\")"
   ]
  },
  {
   "cell_type": "markdown",
   "id": "9f707a5a",
   "metadata": {},
   "source": [
    "## Download 2024 Training Data\n",
    "Downloading 6 months of 2024 data (Jan-June) for both yellow and green taxis."
   ]
  },
  {
   "cell_type": "code",
   "execution_count": 23,
   "id": "aadf8108",
   "metadata": {},
   "outputs": [
    {
     "name": "stdout",
     "output_type": "stream",
     "text": [
      "Downloading 2024 taxi data...\n",
      "\n",
      "--- Downloading yellow taxi data for 2024 ---\n",
      "Downloading yellow_tripdata_2024-01.parquet...\n",
      "✓ Downloaded yellow_tripdata_2024-01.parquet (47.6 MB)\n",
      "Downloading yellow_tripdata_2024-02.parquet...\n",
      "✓ Downloaded yellow_tripdata_2024-02.parquet (48.0 MB)\n",
      "Downloading yellow_tripdata_2024-03.parquet...\n",
      "✓ Downloaded yellow_tripdata_2024-03.parquet (57.3 MB)\n",
      "Downloading yellow_tripdata_2024-04.parquet...\n",
      "✓ Downloaded yellow_tripdata_2024-04.parquet (56.4 MB)\n",
      "Downloading yellow_tripdata_2024-05.parquet...\n",
      "✓ Downloaded yellow_tripdata_2024-05.parquet (59.7 MB)\n",
      "Downloading yellow_tripdata_2024-06.parquet...\n",
      "✓ Downloaded yellow_tripdata_2024-06.parquet (57.1 MB)\n",
      "\n",
      "--- Downloading green taxi data for 2024 ---\n",
      "Downloading green_tripdata_2024-01.parquet...\n",
      "✓ Downloaded green_tripdata_2024-01.parquet (1.3 MB)\n",
      "Downloading green_tripdata_2024-02.parquet...\n",
      "✓ Downloaded green_tripdata_2024-02.parquet (1.2 MB)\n",
      "Downloading green_tripdata_2024-03.parquet...\n",
      "✓ Downloaded green_tripdata_2024-03.parquet (1.3 MB)\n",
      "Downloading green_tripdata_2024-04.parquet...\n",
      "✓ Downloaded green_tripdata_2024-04.parquet (1.3 MB)\n",
      "Downloading green_tripdata_2024-05.parquet...\n",
      "✓ Downloaded green_tripdata_2024-05.parquet (1.4 MB)\n",
      "Downloading green_tripdata_2024-06.parquet...\n",
      "✓ Downloaded green_tripdata_2024-06.parquet (1.3 MB)\n"
     ]
    }
   ],
   "source": [
    "# Download 6 months of 2024 data (training set)\n",
    "training_months = [1, 2, 3, 4, 5, 6]\n",
    "print(\"Downloading 2024 taxi data...\")\n",
    "download_taxi_data(2024, training_months)"
   ]
  },
  {
   "cell_type": "markdown",
   "id": "626be295",
   "metadata": {},
   "source": [
    "## Download 2025 Testing Data\n",
    "Downloading 6 months of 2025 data (Jan-June) for both yellow and green taxis."
   ]
  },
  {
   "cell_type": "code",
   "execution_count": 25,
   "id": "5034319f",
   "metadata": {},
   "outputs": [
    {
     "name": "stdout",
     "output_type": "stream",
     "text": [
      "Downloading 2025 taxi data...\n",
      "\n",
      "--- Downloading yellow taxi data for 2025 ---\n",
      "Downloading yellow_tripdata_2025-01.parquet...\n",
      "✓ Downloaded yellow_tripdata_2025-01.parquet (56.4 MB)\n",
      "Downloading yellow_tripdata_2025-02.parquet...\n",
      "✓ Downloaded yellow_tripdata_2025-02.parquet (57.5 MB)\n",
      "Downloading yellow_tripdata_2025-03.parquet...\n",
      "✓ Downloaded yellow_tripdata_2025-03.parquet (66.7 MB)\n",
      "Downloading yellow_tripdata_2025-04.parquet...\n",
      "✓ Downloaded yellow_tripdata_2025-04.parquet (64.2 MB)\n",
      "Downloading yellow_tripdata_2025-05.parquet...\n",
      "✓ Downloaded yellow_tripdata_2025-05.parquet (74.2 MB)\n",
      "Downloading yellow_tripdata_2025-06.parquet...\n",
      "✓ Downloaded yellow_tripdata_2025-06.parquet (70.1 MB)\n",
      "\n",
      "--- Downloading green taxi data for 2025 ---\n",
      "Downloading green_tripdata_2025-01.parquet...\n",
      "✓ Downloaded green_tripdata_2025-01.parquet (1.1 MB)\n",
      "Downloading green_tripdata_2025-02.parquet...\n",
      "✓ Downloaded green_tripdata_2025-02.parquet (1.1 MB)\n",
      "Downloading green_tripdata_2025-03.parquet...\n",
      "✓ Downloaded green_tripdata_2025-03.parquet (1.2 MB)\n",
      "Downloading green_tripdata_2025-04.parquet...\n",
      "✓ Downloaded green_tripdata_2025-04.parquet (1.2 MB)\n",
      "Downloading green_tripdata_2025-05.parquet...\n",
      "✓ Downloaded green_tripdata_2025-05.parquet (1.3 MB)\n",
      "Downloading green_tripdata_2025-06.parquet...\n",
      "✓ Downloaded green_tripdata_2025-06.parquet (1.2 MB)\n"
     ]
    }
   ],
   "source": [
    "# Download 6 months of 2025 data (testing set)\n",
    "testing_months = [1, 2, 3, 4, 5, 6]\n",
    "print(\"Downloading 2025 taxi data...\")\n",
    "download_taxi_data(2025, testing_months)"
   ]
  },
  {
   "cell_type": "code",
   "execution_count": null,
   "id": "8488d015",
   "metadata": {},
   "outputs": [
    {
     "data": {
      "text/plain": [
       "('../data/taxi_zones/taxi_zone_lookup.csv',\n",
       " <http.client.HTTPMessage at 0x10d5fb6d0>)"
      ]
     },
     "execution_count": 17,
     "metadata": {},
     "output_type": "execute_result"
    }
   ],
   "source": [
    "from urllib.request import urlretrieve\n",
    "# download the lookup data\n",
    "lookup_url = \"https://d37ci6vzurychx.cloudfront.net/misc/taxi_zone_lookup.csv\"\n",
    "lookup_output_dir = \"../data/taxi_zone_lookup.csv\"\n",
    "urlretrieve(lookup_url, lookup_output_dir)"
   ]
  }
 ],
 "metadata": {
  "kernelspec": {
   "display_name": ".venv",
   "language": "python",
   "name": "python3"
  },
  "language_info": {
   "codemirror_mode": {
    "name": "ipython",
    "version": 3
   },
   "file_extension": ".py",
   "mimetype": "text/x-python",
   "name": "python",
   "nbconvert_exporter": "python",
   "pygments_lexer": "ipython3",
   "version": "3.11.11"
  }
 },
 "nbformat": 4,
 "nbformat_minor": 5
}
