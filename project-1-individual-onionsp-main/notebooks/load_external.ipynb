{
 "cells": [
  {
   "cell_type": "markdown",
   "id": "b91e0faf",
   "metadata": {},
   "source": [
    "# External Data Collection\n",
    "\n",
    "This notebook downloads external datasets to support our Transportation Equity Demand Index (TEDI) analysis:\n",
    "- **Census Demographics (2022)**: Income, vehicle ownership, population density\n",
    "- **Weather Data**: Temperature and precipitation for 2024-2025\n",
    "\n",
    "Note: Using 2022 census data is appropriate as demographic characteristics change slowly over time and provide consistent baseline measures for equity analysis across our 2024-2025 study period."
   ]
  },
  {
   "cell_type": "code",
   "execution_count": 1,
   "id": "589b7e95",
   "metadata": {},
   "outputs": [],
   "source": [
    "import os\n",
    "import requests\n",
    "import pandas as pd\n",
    "\n",
    "# Set up external data directory\n",
    "os.makedirs(\"../data/external\", exist_ok=True)\n",
    "\n",
    "# Get your Census API Key from: https://api.census.gov/data/key_signup.html\n",
    "CENSUS_API_KEY = os.getenv(\"CENSUS_API_KEY\") "
   ]
  },
  {
   "cell_type": "markdown",
   "id": "4c51e521",
   "metadata": {},
   "source": [
    "## Querying the ACS 2022 5-Year Census API\n",
    "\n",
    "We use the following variables:\n",
    "- `B19013_001E`: Median Household Income\n",
    "- `B08201_001E`: Total Households\n",
    "- `B08201_002E`: Households Without a Vehicle\n",
    "\n",
    "These values are retrieved for all **PUMAs** in **New York State (state code 36)**."
   ]
  },
  {
   "cell_type": "code",
   "execution_count": 2,
   "id": "a7479d44",
   "metadata": {},
   "outputs": [],
   "source": [
    "# Define API request\n",
    "base_url = \"https://api.census.gov/data/2022/acs/acs5\"\n",
    "get_vars = [\n",
    "    \"NAME\",\n",
    "    \"B19013_001E\",  # Median Household Income\n",
    "    \"B08201_001E\",  # Total Households\n",
    "    \"B08201_002E\"   # Households Without a Vehicle\n",
    "]\n",
    "params = {\n",
    "    \"get\": \",\".join(get_vars),\n",
    "    \"for\": \"public use microdata area:*\",\n",
    "    \"in\": \"state:36\",  # NY State\n",
    "    \"key\": CENSUS_API_KEY\n",
    "}\n",
    "\n",
    "# Query API\n",
    "response = requests.get(base_url, params=params)\n",
    "data = response.json()\n",
    "\n",
    "# Convert to DataFrame\n",
    "columns = data[0]\n",
    "acs_df = pd.DataFrame(data[1:], columns=columns)\n",
    "\n",
    "# Convert numeric columns\n",
    "acs_df[\"B19013_001E\"] = pd.to_numeric(acs_df[\"B19013_001E\"], errors=\"coerce\")\n",
    "acs_df[\"B08201_001E\"] = pd.to_numeric(acs_df[\"B08201_001E\"], errors=\"coerce\")\n",
    "acs_df[\"B08201_002E\"] = pd.to_numeric(acs_df[\"B08201_002E\"], errors=\"coerce\")\n",
    "\n",
    "# Compute % of households without a vehicle\n",
    "acs_df[\"Percent_No_Vehicle\"] = 100 * acs_df[\"B08201_002E\"] / acs_df[\"B08201_001E\"]"
   ]
  },
  {
   "cell_type": "markdown",
   "id": "a178360a",
   "metadata": {},
   "source": [
    "## Save Dataset\n",
    "\n",
    "We now save the cleaned ACS dataset to a CSV file in `../data/external/`.\n"
   ]
  },
  {
   "cell_type": "code",
   "execution_count": 3,
   "id": "b369734d",
   "metadata": {},
   "outputs": [
    {
     "name": "stdout",
     "output_type": "stream",
     "text": [
      "Saved ACS data to: ../data/external/census_acs_puma_2022.csv\n"
     ]
    }
   ],
   "source": [
    "# Rename and reorder for clarity\n",
    "acs_df = acs_df.rename(columns={\n",
    "    \"B19013_001E\": \"Median_Income\",\n",
    "    \"B08201_001E\": \"Total_Households\",\n",
    "    \"B08201_002E\": \"No_Vehicle_Households\",\n",
    "    \"public use microdata area\": \"PUMA\"\n",
    "})\n",
    "\n",
    "acs_df = acs_df[[\n",
    "    \"PUMA\", \"NAME\", \"Median_Income\", \n",
    "    \"Total_Households\", \"No_Vehicle_Households\", \"Percent_No_Vehicle\"\n",
    "]]\n",
    "\n",
    "# Save\n",
    "acs_path = \"../data/external/census_acs_puma_2022.csv\"\n",
    "acs_df.to_csv(acs_path, index=False)\n",
    "print(\"Saved ACS data to:\", acs_path)"
   ]
  },
  {
   "cell_type": "markdown",
   "id": "ae480da3",
   "metadata": {},
   "source": [
    "## Weather Data Collection\n",
    "Weather impacts transportation demand and equity - rainy/cold days may increase taxi usage in areas with limited public transit."
   ]
  },
  {
   "cell_type": "code",
   "execution_count": 4,
   "id": "d889bed7",
   "metadata": {},
   "outputs": [
    {
     "name": "stdout",
     "output_type": "stream",
     "text": [
      "Downloading NYC weather data using meteostat...\n"
     ]
    }
   ],
   "source": [
    "from meteostat import Point, Daily\n",
    "from datetime import datetime\n",
    "\n",
    "# NYC coordinates\n",
    "nyc = Point(40.7128, -74.0060, 10)  # lat, lon, altitude\n",
    "\n",
    "print(\"Downloading NYC weather data using meteostat...\")"
   ]
  },
  {
   "cell_type": "code",
   "execution_count": 5,
   "id": "bbd01563",
   "metadata": {},
   "outputs": [
    {
     "name": "stdout",
     "output_type": "stream",
     "text": [
      "Fetching 2024 weather data...\n",
      "Fetching 2025 weather data...\n",
      "✓ Retrieved 363 days of weather data\n"
     ]
    }
   ],
   "source": [
    "# Get weather data for our specific periods\n",
    "# Training period: Jan-June 2024\n",
    "start_2024 = datetime(2024, 1, 1)\n",
    "end_2024 = datetime(2024, 6, 30)\n",
    "\n",
    "# Testing period: Jan-June 2025\n",
    "start_2025 = datetime(2025, 1, 1) \n",
    "end_2025 = datetime(2025, 6, 30)\n",
    "\n",
    "# Fetch data\n",
    "print(\"Fetching 2024 weather data...\")\n",
    "weather_2024 = Daily(nyc, start_2024, end_2024).fetch()\n",
    "\n",
    "print(\"Fetching 2025 weather data...\")\n",
    "weather_2025 = Daily(nyc, start_2025, end_2025).fetch()\n",
    "\n",
    "# Combine datasets\n",
    "weather_combined = pd.concat([weather_2024, weather_2025])\n",
    "print(f\"✓ Retrieved {len(weather_combined)} days of weather data\")"
   ]
  },
  {
   "cell_type": "code",
   "execution_count": 7,
   "id": "389f3d70",
   "metadata": {},
   "outputs": [
    {
     "data": {
      "text/plain": [
       "Index(['tavg', 'tmin', 'tmax', 'prcp', 'snow', 'wdir', 'wspd', 'wpgt', 'pres',\n",
       "       'tsun'],\n",
       "      dtype='object')"
      ]
     },
     "execution_count": 7,
     "metadata": {},
     "output_type": "execute_result"
    }
   ],
   "source": [
    "weather_combined.columns"
   ]
  },
  {
   "cell_type": "code",
   "execution_count": 10,
   "id": "5406dd38",
   "metadata": {},
   "outputs": [
    {
     "name": "stdout",
     "output_type": "stream",
     "text": [
      "✓ Saved weather data: 363 days\n",
      "✓ Coverage: 2024-01-01 00:00:00 to 2025-06-30 00:00:00\n",
      "        date  temperature_avg  precipitation_mm  snow_mm\n",
      "0 2024-01-01              6.0               0.0      0.0\n",
      "1 2024-01-02              3.5               0.0      0.0\n",
      "2 2024-01-03              4.0               0.0      0.0\n",
      "3 2024-01-04              4.3               0.0      0.0\n",
      "4 2024-01-05              0.9               0.0      0.0\n"
     ]
    }
   ],
   "source": [
    "# Process and save weather data\n",
    "weather_df = weather_combined.reset_index()\n",
    "weather_df = weather_df.rename(columns={\n",
    "    'time': 'date',\n",
    "    'tavg': 'temperature_avg',\n",
    "    'prcp': 'precipitation_mm',\n",
    "    'snow': 'snow_mm'\n",
    "})\n",
    "\n",
    "# Keep only needed columns \n",
    "weather_final = weather_df[['date', 'temperature_avg', 'precipitation_mm', 'snow_mm']].copy()\n",
    "\n",
    "# Save to file\n",
    "weather_path = \"../data/external/weather_2024_2025.csv\" \n",
    "weather_final.to_csv(weather_path, index=False)\n",
    "\n",
    "print(f\"✓ Saved weather data: {len(weather_final)} days\")\n",
    "print(f\"✓ Coverage: {weather_final['date'].min()} to {weather_final['date'].max()}\")\n",
    "print(weather_final.head())"
   ]
  },
  {
   "cell_type": "code",
   "execution_count": null,
   "id": "80b92751",
   "metadata": {},
   "outputs": [],
   "source": []
  }
 ],
 "metadata": {
  "kernelspec": {
   "display_name": ".venv",
   "language": "python",
   "name": "python3"
  },
  "language_info": {
   "codemirror_mode": {
    "name": "ipython",
    "version": 3
   },
   "file_extension": ".py",
   "mimetype": "text/x-python",
   "name": "python",
   "nbconvert_exporter": "python",
   "pygments_lexer": "ipython3",
   "version": "3.11.11"
  }
 },
 "nbformat": 4,
 "nbformat_minor": 5
}
