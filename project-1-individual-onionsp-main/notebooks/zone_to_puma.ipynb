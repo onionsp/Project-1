{
 "cells": [
  {
   "cell_type": "code",
   "execution_count": 3,
   "id": "9d325bc7",
   "metadata": {},
   "outputs": [],
   "source": [
    "import geopandas as gpd\n",
    "\n",
    "# Load TLC Taxi Zones\n",
    "tlc = gpd.read_file(\"../data/taxi_zones\").to_crs(\"EPSG:2263\")  # NYC projection\n",
    "\n",
    "# Load PUMAs (2020)\n",
    "pumas = gpd.read_file(\"../data/external/nypuma2020_25b\").to_crs(\"EPSG:2263\")"
   ]
  },
  {
   "cell_type": "code",
   "execution_count": 4,
   "id": "88b38e38",
   "metadata": {},
   "outputs": [],
   "source": [
    "tlc_with_puma = gpd.sjoin(tlc, pumas, how=\"left\", predicate=\"intersects\")"
   ]
  },
  {
   "cell_type": "code",
   "execution_count": 8,
   "id": "30775589",
   "metadata": {},
   "outputs": [
    {
     "data": {
      "text/plain": [
       "Index(['OBJECTID', 'Shape_Leng_left', 'Shape_Area_left', 'zone', 'LocationID',\n",
       "       'borough', 'geometry', 'index_right', 'PUMA', 'Shape_Leng_right',\n",
       "       'Shape_Area_right'],\n",
       "      dtype='object')"
      ]
     },
     "execution_count": 8,
     "metadata": {},
     "output_type": "execute_result"
    }
   ],
   "source": [
    "tlc_with_puma.columns"
   ]
  },
  {
   "cell_type": "code",
   "execution_count": 9,
   "id": "79065c0f",
   "metadata": {},
   "outputs": [],
   "source": [
    "tlc_with_puma[['LocationID', 'zone', 'borough', 'PUMA']].to_csv(\"../data/processed/zone_to_puma.csv\", index=False)"
   ]
  },
  {
   "cell_type": "code",
   "execution_count": null,
   "id": "29ebd16c",
   "metadata": {},
   "outputs": [],
   "source": []
  }
 ],
 "metadata": {
  "kernelspec": {
   "display_name": ".venv",
   "language": "python",
   "name": "python3"
  },
  "language_info": {
   "codemirror_mode": {
    "name": "ipython",
    "version": 3
   },
   "file_extension": ".py",
   "mimetype": "text/x-python",
   "name": "python",
   "nbconvert_exporter": "python",
   "pygments_lexer": "ipython3",
   "version": "3.11.11"
  }
 },
 "nbformat": 4,
 "nbformat_minor": 5
}
